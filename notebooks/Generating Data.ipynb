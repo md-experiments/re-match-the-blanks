{
 "cells": [
  {
   "cell_type": "code",
   "execution_count": 5,
   "id": "9f39adf4",
   "metadata": {},
   "outputs": [],
   "source": [
    "import os\n",
    "os.chdir(os.path.abspath(os.curdir).replace('notebooks',''))"
   ]
  },
  {
   "cell_type": "code",
   "execution_count": 98,
   "id": "ff1080ba",
   "metadata": {},
   "outputs": [],
   "source": [
    "import json\n",
    "from transformers import AutoTokenizer, AutoModelForMaskedLM, AutoModel\n",
    "import random\n",
    "import pandas as pd\n",
    "from sklearn.metrics import classification_report\n",
    "import boto3"
   ]
  },
  {
   "cell_type": "code",
   "execution_count": 6,
   "id": "f35f7584",
   "metadata": {},
   "outputs": [],
   "source": [
    "from source.utils import flatten_list, create_path, get_keys"
   ]
  },
  {
   "cell_type": "code",
   "execution_count": 100,
   "id": "2884ba28",
   "metadata": {},
   "outputs": [],
   "source": [
    "with open('./data/few_rel/val_wiki.json','r') as data:\n",
    "    js_ls = json.load(data)\n",
    "with open('./data/few_rel/train_wiki.json','r') as data:\n",
    "    js_ls_tr = json.load(data)"
   ]
  },
  {
   "cell_type": "code",
   "execution_count": 107,
   "id": "999eb1a1",
   "metadata": {},
   "outputs": [
    {
     "data": {
      "text/plain": [
       "{'tokens': ['In',\n",
       "  'June',\n",
       "  '1987',\n",
       "  ',',\n",
       "  'the',\n",
       "  'Missouri',\n",
       "  'Highway',\n",
       "  'and',\n",
       "  'Transportation',\n",
       "  'Department',\n",
       "  'approved',\n",
       "  'design',\n",
       "  'location',\n",
       "  'of',\n",
       "  'a',\n",
       "  'new',\n",
       "  'four',\n",
       "  '-',\n",
       "  'lane',\n",
       "  'Mississippi',\n",
       "  'River',\n",
       "  'bridge',\n",
       "  'to',\n",
       "  'replace',\n",
       "  'the',\n",
       "  'deteriorating',\n",
       "  'Cape',\n",
       "  'Girardeau',\n",
       "  'Bridge',\n",
       "  '.'],\n",
       " 'h': ['cape girardeau bridge', 'Q5034838', [[26, 27, 28]]],\n",
       " 't': ['mississippi river', 'Q1497', [[19, 20]]]}"
      ]
     },
     "execution_count": 107,
     "metadata": {},
     "output_type": "execute_result"
    }
   ],
   "source": [
    "js_ls['P177'][0]"
   ]
  },
  {
   "cell_type": "code",
   "execution_count": 104,
   "id": "04571bcb",
   "metadata": {},
   "outputs": [],
   "source": [
    "list_rels_tr = list(js_ls_tr)\n",
    "list_rels = list(js_ls)"
   ]
  },
  {
   "cell_type": "code",
   "execution_count": 51,
   "id": "7b736858",
   "metadata": {},
   "outputs": [
    {
     "data": {
      "text/plain": [
       "set()"
      ]
     },
     "execution_count": 51,
     "metadata": {},
     "output_type": "execute_result"
    }
   ],
   "source": [
    "set(list_rels_tr) & set(list_rels)"
   ]
  },
  {
   "cell_type": "code",
   "execution_count": 105,
   "id": "a769e613",
   "metadata": {},
   "outputs": [
    {
     "data": {
      "text/plain": [
       "['P177',\n",
       " 'P364',\n",
       " 'P2094',\n",
       " 'P361',\n",
       " 'P641',\n",
       " 'P59',\n",
       " 'P413',\n",
       " 'P206',\n",
       " 'P412',\n",
       " 'P155',\n",
       " 'P26',\n",
       " 'P410',\n",
       " 'P25',\n",
       " 'P463',\n",
       " 'P40',\n",
       " 'P921']"
      ]
     },
     "execution_count": 105,
     "metadata": {},
     "output_type": "execute_result"
    }
   ],
   "source": [
    "list_rels"
   ]
  },
  {
   "cell_type": "code",
   "execution_count": 46,
   "id": "0a9a0f45",
   "metadata": {},
   "outputs": [],
   "source": []
  },
  {
   "cell_type": "code",
   "execution_count": 47,
   "id": "e8ee642b",
   "metadata": {},
   "outputs": [
    {
     "data": {
      "text/plain": [
       "16"
      ]
     },
     "execution_count": 47,
     "metadata": {},
     "output_type": "execute_result"
    }
   ],
   "source": [
    "len(list_rels)"
   ]
  },
  {
   "cell_type": "code",
   "execution_count": 116,
   "id": "d2d2a669",
   "metadata": {},
   "outputs": [
    {
     "data": {
      "text/plain": [
       "[9, 4, 5, 6]"
      ]
     },
     "execution_count": 116,
     "metadata": {},
     "output_type": "execute_result"
    }
   ],
   "source": [
    "random.sample(range(10),k=4)"
   ]
  },
  {
   "cell_type": "code",
   "execution_count": 121,
   "id": "39e66e79",
   "metadata": {},
   "outputs": [
    {
     "data": {
      "text/plain": [
       "44100"
      ]
     },
     "execution_count": 121,
     "metadata": {},
     "output_type": "execute_result"
    }
   ],
   "source": [
    "len(all_sents_ex_current)"
   ]
  },
  {
   "cell_type": "code",
   "execution_count": 99,
   "id": "01eb6b1b",
   "metadata": {},
   "outputs": [
    {
     "name": "stdout",
     "output_type": "stream",
     "text": [
      "CPU times: user 22.7 ms, sys: 4.13 ms, total: 26.9 ms\n",
      "Wall time: 26.9 ms\n"
     ]
    },
    {
     "data": {
      "text/html": [
       "<div>\n",
       "<style scoped>\n",
       "    .dataframe tbody tr th:only-of-type {\n",
       "        vertical-align: middle;\n",
       "    }\n",
       "\n",
       "    .dataframe tbody tr th {\n",
       "        vertical-align: top;\n",
       "    }\n",
       "\n",
       "    .dataframe thead th {\n",
       "        text-align: right;\n",
       "    }\n",
       "</style>\n",
       "<table border=\"1\" class=\"dataframe\">\n",
       "  <thead>\n",
       "    <tr style=\"text-align: right;\">\n",
       "      <th></th>\n",
       "      <th>0</th>\n",
       "      <th>1</th>\n",
       "      <th>accuracy</th>\n",
       "      <th>macro avg</th>\n",
       "      <th>weighted avg</th>\n",
       "    </tr>\n",
       "  </thead>\n",
       "  <tbody>\n",
       "    <tr>\n",
       "      <th>precision</th>\n",
       "      <td>0.51</td>\n",
       "      <td>0.52</td>\n",
       "      <td>0.51</td>\n",
       "      <td>0.51</td>\n",
       "      <td>0.51</td>\n",
       "    </tr>\n",
       "    <tr>\n",
       "      <th>recall</th>\n",
       "      <td>0.64</td>\n",
       "      <td>0.38</td>\n",
       "      <td>0.51</td>\n",
       "      <td>0.51</td>\n",
       "      <td>0.51</td>\n",
       "    </tr>\n",
       "    <tr>\n",
       "      <th>f1-score</th>\n",
       "      <td>0.57</td>\n",
       "      <td>0.44</td>\n",
       "      <td>0.51</td>\n",
       "      <td>0.51</td>\n",
       "      <td>0.51</td>\n",
       "    </tr>\n",
       "    <tr>\n",
       "      <th>support</th>\n",
       "      <td>1354.00</td>\n",
       "      <td>1354.00</td>\n",
       "      <td>0.51</td>\n",
       "      <td>2708.00</td>\n",
       "      <td>2708.00</td>\n",
       "    </tr>\n",
       "  </tbody>\n",
       "</table>\n",
       "</div>"
      ],
      "text/plain": [
       "                 0        1  accuracy  macro avg  weighted avg\n",
       "precision     0.51     0.52      0.51       0.51          0.51\n",
       "recall        0.64     0.38      0.51       0.51          0.51\n",
       "f1-score      0.57     0.44      0.51       0.51          0.51\n",
       "support    1354.00  1354.00      0.51    2708.00       2708.00"
      ]
     },
     "execution_count": 99,
     "metadata": {},
     "output_type": "execute_result"
    }
   ],
   "source": [
    "%%time\n",
    "\n",
    "\n",
    "def get_results_hf_preds_semeval(method = 'bracket', model_class = 'distilbert-base-uncased',\n",
    "     train_dataset = 'few_rel'):\n",
    "    model_path = f'./trained_models/distilbert-base-uncased-mtb-rnd_fel_rel_bracket_pred'\n",
    "    df_pred = pd.read_csv(f'{model_path}/test_results_None.txt',sep='\\t',index_col=0)\n",
    "    df_test = pd.read_csv(f'./data/train_samples/sem_eval_test_forpred_bracket.csv')\n",
    "    cls_rpt = classification_report(df_test.label.values,df_pred.prediction.values, output_dict=True)\n",
    "    return pd.DataFrame(cls_rpt).round(2)\n",
    "\n",
    "get_results_hf_preds_semeval(method = 'bracket', train_dataset = 'fel_rel')"
   ]
  },
  {
   "cell_type": "code",
   "execution_count": 52,
   "id": "a9b3b7ab",
   "metadata": {},
   "outputs": [
    {
     "data": {
      "text/html": [
       "<div>\n",
       "<style scoped>\n",
       "    .dataframe tbody tr th:only-of-type {\n",
       "        vertical-align: middle;\n",
       "    }\n",
       "\n",
       "    .dataframe tbody tr th {\n",
       "        vertical-align: top;\n",
       "    }\n",
       "\n",
       "    .dataframe thead th {\n",
       "        text-align: right;\n",
       "    }\n",
       "</style>\n",
       "<table border=\"1\" class=\"dataframe\">\n",
       "  <thead>\n",
       "    <tr style=\"text-align: right;\">\n",
       "      <th></th>\n",
       "      <th>0</th>\n",
       "      <th>1</th>\n",
       "      <th>accuracy</th>\n",
       "      <th>macro avg</th>\n",
       "      <th>weighted avg</th>\n",
       "    </tr>\n",
       "  </thead>\n",
       "  <tbody>\n",
       "    <tr>\n",
       "      <th>precision</th>\n",
       "      <td>0.84</td>\n",
       "      <td>0.86</td>\n",
       "      <td>0.85</td>\n",
       "      <td>0.85</td>\n",
       "      <td>0.85</td>\n",
       "    </tr>\n",
       "    <tr>\n",
       "      <th>recall</th>\n",
       "      <td>0.86</td>\n",
       "      <td>0.83</td>\n",
       "      <td>0.85</td>\n",
       "      <td>0.85</td>\n",
       "      <td>0.85</td>\n",
       "    </tr>\n",
       "    <tr>\n",
       "      <th>f1-score</th>\n",
       "      <td>0.85</td>\n",
       "      <td>0.84</td>\n",
       "      <td>0.85</td>\n",
       "      <td>0.85</td>\n",
       "      <td>0.85</td>\n",
       "    </tr>\n",
       "    <tr>\n",
       "      <th>support</th>\n",
       "      <td>5600.00</td>\n",
       "      <td>5600.00</td>\n",
       "      <td>0.85</td>\n",
       "      <td>11200.00</td>\n",
       "      <td>11200.00</td>\n",
       "    </tr>\n",
       "  </tbody>\n",
       "</table>\n",
       "</div>"
      ],
      "text/plain": [
       "                 0        1  accuracy  macro avg  weighted avg\n",
       "precision     0.84     0.86      0.85       0.85          0.85\n",
       "recall        0.86     0.83      0.85       0.85          0.85\n",
       "f1-score      0.85     0.84      0.85       0.85          0.85\n",
       "support    5600.00  5600.00      0.85   11200.00      11200.00"
      ]
     },
     "execution_count": 52,
     "metadata": {},
     "output_type": "execute_result"
    }
   ],
   "source": [
    "\n",
    "#method = 'ignore'\n",
    "\n",
    "\n",
    "\n",
    "def get_results_hf_preds(method = 'bracket', model_class = 'distilbert-base-uncased',\n",
    "     train_dataset = 'few_rel', eval_dataset = 'few_rel'):\n",
    "    model_path = f'./trained_models/{model_class}-mtb-rnd_{train_dataset}_{method}'\n",
    "    df_pred = pd.read_csv(f'{model_path}/test_results_None.txt',sep='\\t',index_col=0)\n",
    "    df_test = pd.read_csv(f'./data/train_samples/{eval_dataset}_val_{method}_test.csv')\n",
    "    cls_rpt = classification_report(df_test.label.values,df_pred.prediction.values, output_dict=True)\n",
    "    return pd.DataFrame(cls_rpt).round(2)\n",
    "\n",
    "get_results_hf_preds(method = 'bracket', train_dataset = 'fel_rel', eval_dataset = 'few_rel')"
   ]
  },
  {
   "cell_type": "code",
   "execution_count": 42,
   "id": "7ae1c62c",
   "metadata": {},
   "outputs": [
    {
     "data": {
      "text/html": [
       "<div>\n",
       "<style scoped>\n",
       "    .dataframe tbody tr th:only-of-type {\n",
       "        vertical-align: middle;\n",
       "    }\n",
       "\n",
       "    .dataframe tbody tr th {\n",
       "        vertical-align: top;\n",
       "    }\n",
       "\n",
       "    .dataframe thead th {\n",
       "        text-align: right;\n",
       "    }\n",
       "</style>\n",
       "<table border=\"1\" class=\"dataframe\">\n",
       "  <thead>\n",
       "    <tr style=\"text-align: right;\">\n",
       "      <th></th>\n",
       "      <th>0</th>\n",
       "      <th>1</th>\n",
       "      <th>accuracy</th>\n",
       "      <th>macro avg</th>\n",
       "      <th>weighted avg</th>\n",
       "    </tr>\n",
       "  </thead>\n",
       "  <tbody>\n",
       "    <tr>\n",
       "      <th>precision</th>\n",
       "      <td>0.79</td>\n",
       "      <td>0.77</td>\n",
       "      <td>0.78</td>\n",
       "      <td>0.78</td>\n",
       "      <td>0.78</td>\n",
       "    </tr>\n",
       "    <tr>\n",
       "      <th>recall</th>\n",
       "      <td>0.76</td>\n",
       "      <td>0.80</td>\n",
       "      <td>0.78</td>\n",
       "      <td>0.78</td>\n",
       "      <td>0.78</td>\n",
       "    </tr>\n",
       "    <tr>\n",
       "      <th>f1-score</th>\n",
       "      <td>0.77</td>\n",
       "      <td>0.78</td>\n",
       "      <td>0.78</td>\n",
       "      <td>0.78</td>\n",
       "      <td>0.78</td>\n",
       "    </tr>\n",
       "    <tr>\n",
       "      <th>support</th>\n",
       "      <td>5600.00</td>\n",
       "      <td>5600.00</td>\n",
       "      <td>0.78</td>\n",
       "      <td>11200.00</td>\n",
       "      <td>11200.00</td>\n",
       "    </tr>\n",
       "  </tbody>\n",
       "</table>\n",
       "</div>"
      ],
      "text/plain": [
       "                 0        1  accuracy  macro avg  weighted avg\n",
       "precision     0.79     0.77      0.78       0.78          0.78\n",
       "recall        0.76     0.80      0.78       0.78          0.78\n",
       "f1-score      0.77     0.78      0.78       0.78          0.78\n",
       "support    5600.00  5600.00      0.78   11200.00      11200.00"
      ]
     },
     "execution_count": 42,
     "metadata": {},
     "output_type": "execute_result"
    }
   ],
   "source": [
    "get_results_hf_preds(method = 'mask_one', train_dataset = 'fel_rel', eval_dataset = 'few_rel')"
   ]
  },
  {
   "cell_type": "code",
   "execution_count": 43,
   "id": "f02166a1",
   "metadata": {},
   "outputs": [
    {
     "data": {
      "text/html": [
       "<div>\n",
       "<style scoped>\n",
       "    .dataframe tbody tr th:only-of-type {\n",
       "        vertical-align: middle;\n",
       "    }\n",
       "\n",
       "    .dataframe tbody tr th {\n",
       "        vertical-align: top;\n",
       "    }\n",
       "\n",
       "    .dataframe thead th {\n",
       "        text-align: right;\n",
       "    }\n",
       "</style>\n",
       "<table border=\"1\" class=\"dataframe\">\n",
       "  <thead>\n",
       "    <tr style=\"text-align: right;\">\n",
       "      <th></th>\n",
       "      <th>0</th>\n",
       "      <th>1</th>\n",
       "      <th>accuracy</th>\n",
       "      <th>macro avg</th>\n",
       "      <th>weighted avg</th>\n",
       "    </tr>\n",
       "  </thead>\n",
       "  <tbody>\n",
       "    <tr>\n",
       "      <th>precision</th>\n",
       "      <td>0.80</td>\n",
       "      <td>0.77</td>\n",
       "      <td>0.78</td>\n",
       "      <td>0.78</td>\n",
       "      <td>0.78</td>\n",
       "    </tr>\n",
       "    <tr>\n",
       "      <th>recall</th>\n",
       "      <td>0.76</td>\n",
       "      <td>0.81</td>\n",
       "      <td>0.78</td>\n",
       "      <td>0.78</td>\n",
       "      <td>0.78</td>\n",
       "    </tr>\n",
       "    <tr>\n",
       "      <th>f1-score</th>\n",
       "      <td>0.78</td>\n",
       "      <td>0.79</td>\n",
       "      <td>0.78</td>\n",
       "      <td>0.78</td>\n",
       "      <td>0.78</td>\n",
       "    </tr>\n",
       "    <tr>\n",
       "      <th>support</th>\n",
       "      <td>5600.00</td>\n",
       "      <td>5600.00</td>\n",
       "      <td>0.78</td>\n",
       "      <td>11200.00</td>\n",
       "      <td>11200.00</td>\n",
       "    </tr>\n",
       "  </tbody>\n",
       "</table>\n",
       "</div>"
      ],
      "text/plain": [
       "                 0        1  accuracy  macro avg  weighted avg\n",
       "precision     0.80     0.77      0.78       0.78          0.78\n",
       "recall        0.76     0.81      0.78       0.78          0.78\n",
       "f1-score      0.78     0.79      0.78       0.78          0.78\n",
       "support    5600.00  5600.00      0.78   11200.00      11200.00"
      ]
     },
     "execution_count": 43,
     "metadata": {},
     "output_type": "execute_result"
    }
   ],
   "source": [
    "get_results(method = 'ignore', train_dataset = 'fel_rel', eval_dataset = 'few_rel')"
   ]
  },
  {
   "cell_type": "code",
   "execution_count": 29,
   "id": "da5d2826",
   "metadata": {},
   "outputs": [],
   "source": [
    "df_sent = pd.read_csv('./data/SemEval2010_task8_all_data/SemEval2010_task8_testing_keys/TEST_FILE_CLEAN.TXT',\n",
    "            sep='\\t',header=None, index_col=0)\n",
    "\n",
    "df_key = pd.read_csv('./data/SemEval2010_task8_all_data/SemEval2010_task8_testing_keys/TEST_FILE_KEY.TXT',\n",
    "            sep='\\t',header=None, index_col=0)"
   ]
  },
  {
   "cell_type": "code",
   "execution_count": 34,
   "id": "2a16ef02",
   "metadata": {},
   "outputs": [],
   "source": [
    "df_key = pd.read_csv('./data/SemEval2010_task8_all_data/SemEval2010_task8_training/TRAIN_FILE.TXT',\n",
    "            sep='\\t',header=None, index_col=0)"
   ]
  },
  {
   "cell_type": "code",
   "execution_count": 93,
   "id": "350a9bb8",
   "metadata": {},
   "outputs": [],
   "source": [
    "path_file = './data/SemEval2010_task8_all_data/SemEval2010_task8_testing_keys/TEST_FILE_FULL.TXT'\n",
    "\n"
   ]
  },
  {
   "cell_type": "code",
   "execution_count": 96,
   "id": "cece2bc7",
   "metadata": {},
   "outputs": [
    {
     "data": {
      "text/plain": [
       "(2708, 3)"
      ]
     },
     "execution_count": 96,
     "metadata": {},
     "output_type": "execute_result"
    }
   ],
   "source": [
    "pd.read_csv('./data/train_samples/sem_eval_test_forpred_bracket.csv').shape"
   ]
  },
  {
   "cell_type": "code",
   "execution_count": 87,
   "id": "d26cf1c3",
   "metadata": {},
   "outputs": [
    {
     "data": {
      "text/plain": [
       "Index(['sentence1', 'sentence2', 'label'], dtype='object')"
      ]
     },
     "execution_count": 87,
     "metadata": {},
     "output_type": "execute_result"
    }
   ],
   "source": [
    "pd.read_csv('./data/train_samples/few_rel_train_bracket_val.csv').columns"
   ]
  },
  {
   "cell_type": "code",
   "execution_count": 95,
   "id": "3d0b827f",
   "metadata": {},
   "outputs": [
    {
     "data": {
      "text/html": [
       "<div>\n",
       "<style scoped>\n",
       "    .dataframe tbody tr th:only-of-type {\n",
       "        vertical-align: middle;\n",
       "    }\n",
       "\n",
       "    .dataframe tbody tr th {\n",
       "        vertical-align: top;\n",
       "    }\n",
       "\n",
       "    .dataframe thead th {\n",
       "        text-align: right;\n",
       "    }\n",
       "</style>\n",
       "<table border=\"1\" class=\"dataframe\">\n",
       "  <thead>\n",
       "    <tr style=\"text-align: right;\">\n",
       "      <th></th>\n",
       "      <th>sentence</th>\n",
       "      <th>label</th>\n",
       "      <th>comment</th>\n",
       "    </tr>\n",
       "    <tr>\n",
       "      <th>i</th>\n",
       "      <th></th>\n",
       "      <th></th>\n",
       "      <th></th>\n",
       "    </tr>\n",
       "  </thead>\n",
       "  <tbody>\n",
       "  </tbody>\n",
       "</table>\n",
       "</div>"
      ],
      "text/plain": [
       "Empty DataFrame\n",
       "Columns: [sentence, label, comment]\n",
       "Index: []"
      ]
     },
     "execution_count": 95,
     "metadata": {},
     "output_type": "execute_result"
    }
   ],
   "source": [
    "from create_train_data import read_sem_eval\n",
    "\n",
    "read_sem_eval(path_file)"
   ]
  },
  {
   "cell_type": "code",
   "execution_count": 64,
   "id": "bcb0c6ef",
   "metadata": {},
   "outputs": [
    {
     "data": {
      "text/plain": [
       "'\"The system as described above has its greatest application in an arrayed configuration of antenna elements.\"'"
      ]
     },
     "execution_count": 64,
     "metadata": {},
     "output_type": "execute_result"
    }
   ],
   "source": [
    "import re\n",
    "\n",
    "re.sub('<[/]?e[1,2]>','',df_semeval.sentence.iloc[0])"
   ]
  },
  {
   "cell_type": "code",
   "execution_count": 66,
   "id": "e5c10e35",
   "metadata": {},
   "outputs": [
    {
     "name": "stdout",
     "output_type": "stream",
     "text": [
      "\"The system as described above has its greatest application in an arrayed <e1>configuration</e1> of antenna <e2>elements</e2>.\"\n",
      "\"The system as described above has its greatest application in an arrayed configuration of antenna elements.\"\n",
      "\"The <e1>child</e1> was carefully wrapped and bound into the <e2>cradle</e2> by means of a cord.\"\n",
      "\"The child was carefully wrapped and bound into the cradle by means of a cord.\"\n",
      "\"The <e1>author</e1> of a keygen uses a <e2>disassembler</e2> to look at the raw assembly code.\"\n",
      "\"The author of a keygen uses a disassembler to look at the raw assembly code.\"\n",
      "\"A misty <e1>ridge</e1> uprises from the <e2>surge</e2>.\"\n",
      "\"A misty ridge uprises from the surge.\"\n",
      "\"The <e1>student</e1> <e2>association</e2> is the voice of the undergraduate student population of the State University of New York at Buffalo.\"\n",
      "\"The student association is the voice of the undergraduate student population of the State University of New York at Buffalo.\"\n",
      "\"This is the sprawling <e1>complex</e1> that is Peru's largest <e2>producer</e2> of silver.\"\n",
      "\"This is the sprawling complex that is Peru's largest producer of silver.\"\n",
      "\"The current view is that the chronic <e1>inflammation</e1> in the distal part of the stomach caused by Helicobacter pylori <e2>infection</e2> results in an increased acid production from the non-infected upper corpus region of the stomach.\"\n",
      "\"The current view is that the chronic inflammation in the distal part of the stomach caused by Helicobacter pylori infection results in an increased acid production from the non-infected upper corpus region of the stomach.\"\n",
      "\"<e1>People</e1> have been moving back into <e2>downtown</e2>.\"\n",
      "\"People have been moving back into downtown.\"\n",
      "\"The <e1>lawsonite</e1> was contained in a <e2>platinum crucible</e2> and the counter-weight was a plastic crucible with metal pieces.\"\n",
      "\"The lawsonite was contained in a platinum crucible and the counter-weight was a plastic crucible with metal pieces.\"\n",
      "\"The solute was placed inside a beaker and 5 mL of the <e1>solvent</e1> was pipetted into a 25 mL glass <e2>flask</e2> for each trial.\"\n",
      "\"The solute was placed inside a beaker and 5 mL of the solvent was pipetted into a 25 mL glass flask for each trial.\"\n"
     ]
    }
   ],
   "source": [
    "for i in range(10):\n",
    "    print(df_semeval.sentence.iloc[i])\n",
    "    print(re.sub('<[/]?e[1,2]>','',df_semeval.sentence.iloc[i]))"
   ]
  },
  {
   "cell_type": "code",
   "execution_count": 55,
   "id": "9ff42304",
   "metadata": {},
   "outputs": [
    {
     "data": {
      "text/html": [
       "<div>\n",
       "<style scoped>\n",
       "    .dataframe tbody tr th:only-of-type {\n",
       "        vertical-align: middle;\n",
       "    }\n",
       "\n",
       "    .dataframe tbody tr th {\n",
       "        vertical-align: top;\n",
       "    }\n",
       "\n",
       "    .dataframe thead th {\n",
       "        text-align: right;\n",
       "    }\n",
       "</style>\n",
       "<table border=\"1\" class=\"dataframe\">\n",
       "  <thead>\n",
       "    <tr style=\"text-align: right;\">\n",
       "      <th></th>\n",
       "      <th>sentence</th>\n",
       "      <th>label</th>\n",
       "      <th>comment</th>\n",
       "    </tr>\n",
       "    <tr>\n",
       "      <th>i</th>\n",
       "      <th></th>\n",
       "      <th></th>\n",
       "      <th></th>\n",
       "    </tr>\n",
       "  </thead>\n",
       "  <tbody>\n",
       "    <tr>\n",
       "      <th>1</th>\n",
       "      <td>\"The system as described above has its greates...</td>\n",
       "      <td>Component-Whole(e2,e1)</td>\n",
       "      <td>Comment: Not a collection: there is structure ...</td>\n",
       "    </tr>\n",
       "    <tr>\n",
       "      <th>2</th>\n",
       "      <td>\"The &lt;e1&gt;child&lt;/e1&gt; was carefully wrapped and ...</td>\n",
       "      <td>Other</td>\n",
       "      <td>Comment:</td>\n",
       "    </tr>\n",
       "    <tr>\n",
       "      <th>3</th>\n",
       "      <td>\"The &lt;e1&gt;author&lt;/e1&gt; of a keygen uses a &lt;e2&gt;di...</td>\n",
       "      <td>Instrument-Agency(e2,e1)</td>\n",
       "      <td>Comment:</td>\n",
       "    </tr>\n",
       "    <tr>\n",
       "      <th>4</th>\n",
       "      <td>\"A misty &lt;e1&gt;ridge&lt;/e1&gt; uprises from the &lt;e2&gt;s...</td>\n",
       "      <td>Other</td>\n",
       "      <td>Comment:</td>\n",
       "    </tr>\n",
       "    <tr>\n",
       "      <th>5</th>\n",
       "      <td>\"The &lt;e1&gt;student&lt;/e1&gt; &lt;e2&gt;association&lt;/e2&gt; is ...</td>\n",
       "      <td>Member-Collection(e1,e2)</td>\n",
       "      <td>Comment:</td>\n",
       "    </tr>\n",
       "    <tr>\n",
       "      <th>...</th>\n",
       "      <td>...</td>\n",
       "      <td>...</td>\n",
       "      <td>...</td>\n",
       "    </tr>\n",
       "    <tr>\n",
       "      <th>7996</th>\n",
       "      <td>\"When the &lt;e1&gt;notice&lt;/e1&gt; is sent by &lt;e2&gt;fax&lt;/...</td>\n",
       "      <td>Other</td>\n",
       "      <td>Comment:</td>\n",
       "    </tr>\n",
       "    <tr>\n",
       "      <th>7997</th>\n",
       "      <td>\"The &lt;e1&gt;herbicide&lt;/e1&gt; is derived from a natu...</td>\n",
       "      <td>Entity-Origin(e1,e2)</td>\n",
       "      <td>Comment:</td>\n",
       "    </tr>\n",
       "    <tr>\n",
       "      <th>7998</th>\n",
       "      <td>\"To test this, we placed a kitchen &lt;e1&gt;match&lt;/...</td>\n",
       "      <td>Entity-Destination(e1,e2)</td>\n",
       "      <td>Comment:</td>\n",
       "    </tr>\n",
       "    <tr>\n",
       "      <th>7999</th>\n",
       "      <td>\"The farmers and city officials in the region ...</td>\n",
       "      <td>Other</td>\n",
       "      <td>Comment:</td>\n",
       "    </tr>\n",
       "    <tr>\n",
       "      <th>8000</th>\n",
       "      <td>\"The &lt;e1&gt;surgeon&lt;/e1&gt; cuts a small &lt;e2&gt;hole&lt;/e...</td>\n",
       "      <td>Product-Producer(e2,e1)</td>\n",
       "      <td>Comment:</td>\n",
       "    </tr>\n",
       "  </tbody>\n",
       "</table>\n",
       "<p>8000 rows × 3 columns</p>\n",
       "</div>"
      ],
      "text/plain": [
       "                                               sentence  \\\n",
       "i                                                         \n",
       "1     \"The system as described above has its greates...   \n",
       "2     \"The <e1>child</e1> was carefully wrapped and ...   \n",
       "3     \"The <e1>author</e1> of a keygen uses a <e2>di...   \n",
       "4     \"A misty <e1>ridge</e1> uprises from the <e2>s...   \n",
       "5     \"The <e1>student</e1> <e2>association</e2> is ...   \n",
       "...                                                 ...   \n",
       "7996  \"When the <e1>notice</e1> is sent by <e2>fax</...   \n",
       "7997  \"The <e1>herbicide</e1> is derived from a natu...   \n",
       "7998  \"To test this, we placed a kitchen <e1>match</...   \n",
       "7999  \"The farmers and city officials in the region ...   \n",
       "8000  \"The <e1>surgeon</e1> cuts a small <e2>hole</e...   \n",
       "\n",
       "                          label  \\\n",
       "i                                 \n",
       "1        Component-Whole(e2,e1)   \n",
       "2                         Other   \n",
       "3      Instrument-Agency(e2,e1)   \n",
       "4                         Other   \n",
       "5      Member-Collection(e1,e2)   \n",
       "...                         ...   \n",
       "7996                      Other   \n",
       "7997       Entity-Origin(e1,e2)   \n",
       "7998  Entity-Destination(e1,e2)   \n",
       "7999                      Other   \n",
       "8000    Product-Producer(e2,e1)   \n",
       "\n",
       "                                                comment  \n",
       "i                                                        \n",
       "1     Comment: Not a collection: there is structure ...  \n",
       "2                                              Comment:  \n",
       "3                                              Comment:  \n",
       "4                                              Comment:  \n",
       "5                                              Comment:  \n",
       "...                                                 ...  \n",
       "7996                                           Comment:  \n",
       "7997                                           Comment:  \n",
       "7998                                           Comment:  \n",
       "7999                                           Comment:  \n",
       "8000                                           Comment:  \n",
       "\n",
       "[8000 rows x 3 columns]"
      ]
     },
     "execution_count": 55,
     "metadata": {},
     "output_type": "execute_result"
    }
   ],
   "source": [
    "if method == 'ignore':\n",
    "    []"
   ]
  },
  {
   "cell_type": "code",
   "execution_count": 31,
   "id": "e4f75b6e",
   "metadata": {},
   "outputs": [
    {
     "data": {
      "text/html": [
       "<div>\n",
       "<style scoped>\n",
       "    .dataframe tbody tr th:only-of-type {\n",
       "        vertical-align: middle;\n",
       "    }\n",
       "\n",
       "    .dataframe tbody tr th {\n",
       "        vertical-align: top;\n",
       "    }\n",
       "\n",
       "    .dataframe thead th {\n",
       "        text-align: right;\n",
       "    }\n",
       "</style>\n",
       "<table border=\"1\" class=\"dataframe\">\n",
       "  <thead>\n",
       "    <tr style=\"text-align: right;\">\n",
       "      <th></th>\n",
       "      <th>1</th>\n",
       "    </tr>\n",
       "    <tr>\n",
       "      <th>0</th>\n",
       "      <th></th>\n",
       "    </tr>\n",
       "  </thead>\n",
       "  <tbody>\n",
       "    <tr>\n",
       "      <th>8001</th>\n",
       "      <td>The most common &lt;e1&gt;audits&lt;/e1&gt; were about &lt;e2...</td>\n",
       "    </tr>\n",
       "    <tr>\n",
       "      <th>8002</th>\n",
       "      <td>The &lt;e1&gt;company&lt;/e1&gt; fabricates plastic &lt;e2&gt;ch...</td>\n",
       "    </tr>\n",
       "    <tr>\n",
       "      <th>8003</th>\n",
       "      <td>The school &lt;e1&gt;master&lt;/e1&gt; teaches the lesson ...</td>\n",
       "    </tr>\n",
       "    <tr>\n",
       "      <th>8004</th>\n",
       "      <td>The suspect dumped the dead &lt;e1&gt;body&lt;/e1&gt; into...</td>\n",
       "    </tr>\n",
       "    <tr>\n",
       "      <th>8005</th>\n",
       "      <td>Avian &lt;e1&gt;influenza&lt;/e1&gt; is an infectious dise...</td>\n",
       "    </tr>\n",
       "    <tr>\n",
       "      <th>...</th>\n",
       "      <td>...</td>\n",
       "    </tr>\n",
       "    <tr>\n",
       "      <th>10713</th>\n",
       "      <td>After seating all the idols, which itself take...</td>\n",
       "    </tr>\n",
       "    <tr>\n",
       "      <th>10714</th>\n",
       "      <td>The minister attributed the slow production of...</td>\n",
       "    </tr>\n",
       "    <tr>\n",
       "      <th>10715</th>\n",
       "      <td>The &lt;e1&gt;umbrella&lt;/e1&gt; &lt;e2&gt;frame&lt;/e2&gt; is provid...</td>\n",
       "    </tr>\n",
       "    <tr>\n",
       "      <th>10716</th>\n",
       "      <td>Manos: The Hands of Fate is a low-budget horro...</td>\n",
       "    </tr>\n",
       "    <tr>\n",
       "      <th>10717</th>\n",
       "      <td>A few days before the service, Tom Burris had ...</td>\n",
       "    </tr>\n",
       "  </tbody>\n",
       "</table>\n",
       "<p>2717 rows × 1 columns</p>\n",
       "</div>"
      ],
      "text/plain": [
       "                                                       1\n",
       "0                                                       \n",
       "8001   The most common <e1>audits</e1> were about <e2...\n",
       "8002   The <e1>company</e1> fabricates plastic <e2>ch...\n",
       "8003   The school <e1>master</e1> teaches the lesson ...\n",
       "8004   The suspect dumped the dead <e1>body</e1> into...\n",
       "8005   Avian <e1>influenza</e1> is an infectious dise...\n",
       "...                                                  ...\n",
       "10713  After seating all the idols, which itself take...\n",
       "10714  The minister attributed the slow production of...\n",
       "10715  The <e1>umbrella</e1> <e2>frame</e2> is provid...\n",
       "10716  Manos: The Hands of Fate is a low-budget horro...\n",
       "10717  A few days before the service, Tom Burris had ...\n",
       "\n",
       "[2717 rows x 1 columns]"
      ]
     },
     "execution_count": 31,
     "metadata": {},
     "output_type": "execute_result"
    }
   ],
   "source": []
  },
  {
   "cell_type": "code",
   "execution_count": 5,
   "id": "b65fc320",
   "metadata": {},
   "outputs": [],
   "source": [
    "from transformers import AutoTokenizer, AutoModelForMaskedLM, AutoModel\n",
    "\n",
    "model_path = './trained_models/distilbert-base-uncased-mtb-rnd_fel_rel_bracket/'\n",
    "tokenizer = AutoTokenizer.from_pretrained(model_path)\n",
    "model = AutoModel.from_pretrained(model_path)\n"
   ]
  },
  {
   "cell_type": "code",
   "execution_count": 6,
   "id": "a8c307ad",
   "metadata": {},
   "outputs": [
    {
     "data": {
      "text/plain": [
       "{'input_ids': [101, 1996, 2087, 2691, 30522, 15727, 2015, 30523, 2020, 2055, 30524, 5949, 30525, 1998, 17874, 1012, 102], 'attention_mask': [1, 1, 1, 1, 1, 1, 1, 1, 1, 1, 1, 1, 1, 1, 1, 1, 1]}"
      ]
     },
     "execution_count": 6,
     "metadata": {},
     "output_type": "execute_result"
    }
   ],
   "source": [
    "tokenizer(df_semeval[1].iloc[0])"
   ]
  },
  {
   "cell_type": "code",
   "execution_count": 7,
   "id": "5d2aff2a",
   "metadata": {},
   "outputs": [],
   "source": []
  },
  {
   "cell_type": "code",
   "execution_count": 19,
   "id": "28c43612",
   "metadata": {},
   "outputs": [
    {
     "data": {
      "text/plain": [
       "246.9"
      ]
     },
     "execution_count": 19,
     "metadata": {},
     "output_type": "execute_result"
    }
   ],
   "source": [
    "round(246915368/10e5,1)"
   ]
  },
  {
   "cell_type": "code",
   "execution_count": 137,
   "id": "95c16657",
   "metadata": {},
   "outputs": [],
   "source": [
    "\n",
    "create_path(save_path)"
   ]
  },
  {
   "cell_type": "code",
   "execution_count": 138,
   "id": "27d0ee5f",
   "metadata": {},
   "outputs": [],
   "source": [
    "random_state = 1701\n",
    "\n"
   ]
  },
  {
   "cell_type": "code",
   "execution_count": 172,
   "id": "d0afd2e9",
   "metadata": {},
   "outputs": [
    {
     "name": "stdout",
     "output_type": "stream",
     "text": [
      "./trained_models/ exists already\n",
      "python run_glue.py        --model_name_or_path ./models/distilbert-base-uncased-mtb-rnd/        --do_train        --do_eval        --do_predict        --max_seq_length 256        --num_train_samples 15        --output_dir ./trained_models/distilbert-base-uncased-mtb-rnd_fel_rel_bracket/        --train_file ./data/train_samples/few_rel_train_bracket_train.csv        --validation_file ./data/train_samples/few_rel_train_bracket_val.csv        --test_file ./data/train_samples/few_rel_train_bracket_test.csv --max_train_samples 10        --max_val_samples 10        --max_test_samples 10\n"
     ]
    }
   ],
   "source": [
    "model_name = 'distilbert-base-uncased-mtb-rnd'\n",
    "exp = 'fel_rel_bracket'\n",
    "create_path('./trained_models/')\n",
    "p = dict(\n",
    "    model_path = f'./models/{model_name}/',\n",
    "    max_len = 128*2,\n",
    "    tr_ep = 15,\n",
    "    output_dir = f'./trained_models/{model_name}_{exp}/',\n",
    "    file = './data/train_samples/few_rel_train_bracket',\n",
    "    test_mode = True,\n",
    "    nr_test = 10\n",
    ")\n",
    "create_run_glue_script(p)"
   ]
  },
  {
   "cell_type": "code",
   "execution_count": 165,
   "id": "d25dc0ba",
   "metadata": {},
   "outputs": [],
   "source": [
    "python source/add_entity_tokens.py --model_name distilbert-base-uncased\n",
    "python get_data.py\n",
    "python create_train_data.py\n",
    "python \n"
   ]
  },
  {
   "cell_type": "code",
   "execution_count": 158,
   "id": "d58bf54e",
   "metadata": {},
   "outputs": [
    {
     "data": {
      "text/plain": [
       "RangeIndex(start=40320, stop=44800, step=1)"
      ]
     },
     "execution_count": 158,
     "metadata": {},
     "output_type": "execute_result"
    }
   ],
   "source": []
  },
  {
   "cell_type": "code",
   "execution_count": 143,
   "id": "98641ef0",
   "metadata": {},
   "outputs": [],
   "source": []
  },
  {
   "cell_type": "code",
   "execution_count": 152,
   "id": "a42a4acd",
   "metadata": {},
   "outputs": [
    {
     "data": {
      "text/plain": [
       "4480"
      ]
     },
     "execution_count": 152,
     "metadata": {},
     "output_type": "execute_result"
    }
   ],
   "source": [
    "test_len"
   ]
  },
  {
   "cell_type": "code",
   "execution_count": null,
   "id": "4d88537e",
   "metadata": {},
   "outputs": [],
   "source": [
    "main driver\n",
    "\n",
    "x driven by ...\n",
    "x caused by ...\n",
    "\n",
    "examples of x is"
   ]
  },
  {
   "cell_type": "code",
   "execution_count": 10,
   "id": "a7f3426e",
   "metadata": {
    "scrolled": true
   },
   "outputs": [
    {
     "data": {
      "text/plain": [
       "'The most common <e1>audits</e1> were about <e2>waste</e2> and recycling.'"
      ]
     },
     "execution_count": 10,
     "metadata": {},
     "output_type": "execute_result"
    }
   ],
   "source": [
    "sentence = Sentence(s) for s in df_semeval[1][8001]"
   ]
  },
  {
   "cell_type": "code",
   "execution_count": 8,
   "id": "ad6d1e28",
   "metadata": {},
   "outputs": [
    {
     "name": "stdout",
     "output_type": "stream",
     "text": [
      "2021-04-22 12:57:24,904 --------------------------------------------------------------------------------\n",
      "2021-04-22 12:57:24,905 The model key 'ner' now maps to 'https://huggingface.co/flair/ner-english' on the HuggingFace ModelHub\n",
      "2021-04-22 12:57:24,905  - The most current version of the model is automatically downloaded from there.\n",
      "2021-04-22 12:57:24,906  - (you can alternatively manually download the original model at https://nlp.informatik.hu-berlin.de/resources/models/ner/en-ner-conll03-v0.4.pt)\n",
      "2021-04-22 12:57:24,907 --------------------------------------------------------------------------------\n",
      "2021-04-22 12:57:25,178 loading file /Users/md/.flair/models/ner-english/4f4cdab26f24cb98b732b389e6cebc646c36f54cfd6e0b7d3b90b25656e4262f.8baa8ae8795f4df80b28e7f7b61d788ecbb057d1dc85aacb316f1bd02837a4a4\n"
     ]
    }
   ],
   "source": [
    "from flair.data import Sentence\n",
    "from flair.models import SequenceTagger\n",
    "# predict tags for sentences\n",
    "tagger = SequenceTagger.load('ner')\n"
   ]
  },
  {
   "cell_type": "code",
   "execution_count": 18,
   "id": "9efa1d9c",
   "metadata": {},
   "outputs": [],
   "source": [
    "import spacy\n",
    "nlp = spacy.load(\"en_core_web_lg\")\n"
   ]
  },
  {
   "cell_type": "code",
   "execution_count": 22,
   "id": "50e15e70",
   "metadata": {},
   "outputs": [],
   "source": [
    "def get_list_ents(ls_sent):\n",
    "    res = []\n",
    "    for txt in ls_sent:\n",
    "        doc = nlp(txt)\n",
    "\n",
    "        ent = []\n",
    "        for entity in doc.ents:\n",
    "            ent.append({'text':entity.text,'label':entity.label_,'range':[entity.start_char, entity.end_char]})\n",
    "        res.append({'text':txt,'entities':ent})\n",
    "    return res"
   ]
  },
  {
   "cell_type": "code",
   "execution_count": 28,
   "id": "a9824327",
   "metadata": {},
   "outputs": [
    {
     "data": {
      "text/plain": [
       "4.266666666666667"
      ]
     },
     "execution_count": 28,
     "metadata": {},
     "output_type": "execute_result"
    }
   ],
   "source": [
    "4*mini_batch_size / 30"
   ]
  },
  {
   "cell_type": "code",
   "execution_count": 26,
   "id": "df4627f3",
   "metadata": {},
   "outputs": [
    {
     "name": "stdout",
     "output_type": "stream",
     "text": [
      "0 {'text': 'The most common <e1>audits</e1> were about <e2>waste</e2> and recycling.', 'entities': []}\n",
      "1 {'text': 'The <e1>company</e1> fabricates plastic <e2>chairs</e2>.', 'entities': []}\n",
      "2 {'text': 'The school <e1>master</e1> teaches the lesson with a <e2>stick</e2>.', 'entities': []}\n",
      "3 {'text': 'The suspect dumped the dead <e1>body</e1> into a local <e2>reservoir</e2>.', 'entities': []}\n",
      "4 {'text': 'Avian <e1>influenza</e1> is an infectious disease of birds caused by type A strains of the influenza <e2>virus</e2>.', 'entities': []}\n",
      "5 {'text': 'The <e1>ear</e1> of the African <e2>elephant</e2> is significantly larger--measuring 183 cm by 114 cm in the bush elephant.', 'entities': [{'text': 'African', 'label': 'NORP', 'range': [24, 31]}, {'text': '183 cm', 'label': 'QUANTITY', 'range': [85, 91]}, {'text': '114 cm', 'label': 'QUANTITY', 'range': [95, 101]}]}\n",
      "6 {'text': 'A child is told a <e1>lie</e1> for several years by their <e2>parents</e2> before he/she realizes that a Santa Claus does not exist.', 'entities': [{'text': 'several years', 'label': 'DATE', 'range': [35, 48]}]}\n",
      "7 {'text': 'Skype, a free software, allows a <e1>hookup</e1> of multiple computer <e2>users</e2> to join in an online conference call without incurring any telephone costs.', 'entities': [{'text': 'Skype', 'label': 'ORG', 'range': [0, 5]}]}\n",
      "8 {'text': 'The disgusting scene was retaliation against her brother Philip who rents the <e1>room</e1> inside this apartment <e2>house</e2> on Lombard street.', 'entities': [{'text': 'Philip', 'label': 'PERSON', 'range': [57, 63]}]}\n",
      "9 {'text': 'This <e1>thesis</e1> defines the <e2>clinical characteristics</e2> of amyloid disease.', 'entities': []}\n",
      "10 {'text': 'Ten million quake <e1>survivors</e1> moved into makeshift <e2>houses</e2>.', 'entities': [{'text': 'Ten million', 'label': 'CARDINAL', 'range': [0, 11]}]}\n",
      "11 {'text': \"On a friend's advice, I purchased a sauerkraut and <e1>kimchi</e1> <e2>maker</e2> here and it is just fabulous (and cheap too).\", 'entities': []}\n",
      "12 {'text': 'NASA Kepler mission sends <e1>names</e1> into <e2>space</e2>.', 'entities': [{'text': 'NASA Kepler', 'label': 'PERSON', 'range': [0, 11]}]}\n",
      "13 {'text': 'As a <e1>landscape</e1> <e2>company</e2> in Atlanta, we know which plants thrive in this planting zone and know the optimum landscaping designs for local yards and business.', 'entities': [{'text': 'Atlanta', 'label': 'GPE', 'range': [44, 51]}]}\n",
      "14 {'text': 'As I was contemplating if I had a favorite in the pink category, a <e1>gift</e1> arrived from a sweet <e2>friend</e2>.', 'entities': []}\n",
      "15 {'text': 'The male took over the entire care of the <e1>young</e1> that had left the <e2>nest</e2>.', 'entities': []}\n",
      "16 {'text': 'The famous <e1>actress</e1> arrived at the <e2>airport</e2>.', 'entities': []}\n",
      "17 {'text': 'An FTP server is an inexpensive and relatively simple to operate tool that works great for <e1>filesharing</e1> over the <e2>internet</e2>.', 'entities': [{'text': 'FTP', 'label': 'ORG', 'range': [3, 6]}]}\n",
      "18 {'text': \"Beneath this invocation there is a <e1>zoo</e1> of fearsome <e2>beasts</e2>, including several man-eaters, as well as sphinxes with lions' bodies and human heads.\", 'entities': []}\n",
      "19 {'text': 'The <e1>song</e1> was composed for a famous Brazilian <e2>musician</e2>.', 'entities': [{'text': 'Brazilian', 'label': 'NORP', 'range': [44, 53]}]}\n",
      "20 {'text': 'This <e1>outline</e1> focuses on <e2>spirituality</e2>, esotericism, mysticism, religion and/or parapsychology.', 'entities': []}\n",
      "21 {'text': 'The <e1>bomb</e1> was in a <e2>suitcase</e2> loaded in Frankfurt and transferred to the doomed Boeing 747 in London.', 'entities': [{'text': 'Frankfurt', 'label': 'GPE', 'range': [55, 64]}, {'text': 'Boeing', 'label': 'ORG', 'range': [95, 101]}, {'text': '747', 'label': 'PRODUCT', 'range': [102, 105]}, {'text': 'London', 'label': 'GPE', 'range': [109, 115]}]}\n",
      "22 {'text': 'I spent a year working for a <e1>software</e1> <e2>company</e2> to pay off my college loans.', 'entities': [{'text': 'a year', 'label': 'DATE', 'range': [8, 14]}]}\n",
      "23 {'text': 'The <e1>captain</e1> and the <e2>crew</e2> of the Steve Irwin are grateful for the support of the City of Fremantle and Mayor Brad Pettitt for hosting the event.', 'entities': [{'text': 'Steve Irwin', 'label': 'PERSON', 'range': [50, 61]}, {'text': 'the City of Fremantle', 'label': 'GPE', 'range': [94, 115]}, {'text': 'Brad Pettitt', 'label': 'PERSON', 'range': [126, 138]}]}\n",
      "24 {'text': 'Organic <e1>sesame</e1> <e2>oil</e2> has an anti-bacterial and anti imflammatory effect.', 'entities': []}\n",
      "25 {'text': 'Mileson has sold his humble abode to a <e1>housing</e1> <e2>developer</e2>.', 'entities': [{'text': 'Mileson', 'label': 'ORG', 'range': [0, 7]}]}\n",
      "26 {'text': 'The same <e1>effect</e1> is achieved the traditional <e2>way</e2>, with a team of workers like Keebler elves.', 'entities': [{'text': 'Keebler', 'label': 'ORG', 'range': [95, 102]}]}\n",
      "27 {'text': 'He has built a formidable reputation writing powerful <e1>dramas</e1> for the stage and screen, based on <e2>real events</e2> or socially vital issues.', 'entities': []}\n",
      "28 {'text': 'He produces <e1>drawings</e1> and videos that have been shown in <e2>museums</e2> in Europe and America.', 'entities': [{'text': 'Europe', 'label': 'LOC', 'range': [85, 91]}, {'text': 'America', 'label': 'GPE', 'range': [96, 103]}]}\n",
      "29 {'text': 'Therefore, nowadays China is the complex mixture of different <e1>cultures</e1> from various <e2>epochs</e2>.', 'entities': [{'text': 'China', 'label': 'GPE', 'range': [20, 25]}]}\n",
      "30 {'text': 'Of the hundreds of strains of avian influenza A <e1>viruses</e1>, only four have caused human <e2>infections</e2>: H5N1, H7N3, H7N7, and H9N2.', 'entities': [{'text': 'hundreds', 'label': 'CARDINAL', 'range': [7, 15]}, {'text': 'only four', 'label': 'CARDINAL', 'range': [66, 75]}]}\n",
      "31 {'text': 'Many of his literary <e1>pieces</e1> narrate and mention <e2>stories</e2> that took place in Lipa.', 'entities': [{'text': 'Lipa', 'label': 'GPE', 'range': [93, 97]}]}\n",
      "32 {'text': \"When I'm walking alone, I count the <e1>steps</e1> of the <e2>stairs</e2>, and I also guess approximately how many steps are left till I reach the next street.\", 'entities': []}\n",
      "33 {'text': 'Essentially, the <e1>blisters</e1> that appear in the mouth are caused by the <e2>herpes simplex virus</e2> type 1, HSV-1 for short.', 'entities': []}\n",
      "34 {'text': 'The man at the helm was watching the <e1>luff</e1> of the <e2>sail</e2> and whistling away gently to himself, and that was the only sound excepting the swish of the sea.', 'entities': []}\n",
      "35 {'text': 'Still further, the <e1>circuit</e1> comprises a digital adder and an analog-to-digital <e2>converter</e2> with an analog input connected to the output of the operational amplifier and a digital output connected to a first input of the digital adder.', 'entities': [{'text': 'first', 'label': 'ORDINAL', 'range': [216, 221]}]}\n",
      "36 {'text': 'Dolf Oehler, a leader in the leftist <e1>camp</e1> of Heine <e2>champions</e2> since the 1970s, gathered a group of likeminded critics for this symposium.', 'entities': [{'text': 'Dolf Oehler', 'label': 'PERSON', 'range': [0, 11]}, {'text': 'the 1970s', 'label': 'DATE', 'range': [85, 94]}]}\n",
      "37 {'text': 'The <e1>cartridge</e1> was marked as empty, even with <e2>ink</e2> in both chambers.', 'entities': []}\n",
      "38 {'text': \"A <e1>pod</e1> of sperm <e2>whales</e2> was beached on Italy's southern coast and at least five died in what experts said was a rare and puzzling mass beaching for such a large species.\", 'entities': [{'text': 'Italy', 'label': 'GPE', 'range': [55, 60]}, {'text': 'at least five', 'label': 'CARDINAL', 'range': [82, 95]}]}\n",
      "39 {'text': '<e1>Roundworms</e1> or ascarids are caused by an intestinal <e2>parasite</e2> called Toxocara canis.', 'entities': []}\n",
      "40 {'text': 'The <e1>subject</e1> of imply\" is the source of an <e2>implication</e2> while the subject of \"infer\" is the recipient of an implication.\"', 'entities': []}\n",
      "41 {'text': 'My <e1>cat</e1> has a problem with his <e2>paw</e2>.', 'entities': []}\n",
      "42 {'text': 'The <e1>treaty</e1> establishes a double majority <e2>rule</e2> for Council decisions.', 'entities': []}\n",
      "43 {'text': 'The accident has spread <e1>oil</e1> into the <e2>ocean</e2>.', 'entities': []}\n",
      "44 {'text': 'A tidal wave of <e1>talent</e1> has emanated from this lush <e2>village</e2>.', 'entities': []}\n",
      "45 {'text': 'These <e1>coins</e1> are enclosed in a clear hard <e2>plastic case</e2> with a blue background that is packaged in a blue box.', 'entities': []}\n",
      "46 {'text': 'By dividing the <e1>space</e1> in a kitchen <e2>drawer</e2> where you keep all your cooking utensils, you grouped items by size or purpose.', 'entities': []}\n",
      "47 {'text': 'Then, the target PET <e1>bottle</e1> was put inside of a metal <e2>container</e2>, which was grounded.', 'entities': []}\n",
      "48 {'text': \"<e1>News programs</e1> commented on the <e2>violence</e2> from the game and expressed worries on how it would affect the players' personalities.\", 'entities': []}\n",
      "49 {'text': \"The <e1>narrative</e1> comprises the <e2>interplay</e2> of two themes that are woven together as it criss-crosses back and forth between the life of nineteen year old Greg Kowalski's desire to become a firefighter and his heart-rending life growing up in Saginaw Michigan where he had to endure the physical and verbal abuse handed out by his appalling father.\", 'entities': [{'text': 'two', 'label': 'CARDINAL', 'range': [59, 62]}, {'text': 'nineteen year old', 'label': 'DATE', 'range': [149, 166]}, {'text': \"Greg Kowalski's\", 'label': 'PERSON', 'range': [167, 182]}, {'text': 'Saginaw Michigan', 'label': 'GPE', 'range': [255, 271]}]}\n",
      "50 {'text': 'As Vinay collapsed in pain, the villagers poured <e1>acid</e1> into his <e2>eyes</e2>.', 'entities': [{'text': 'Vinay', 'label': 'PERSON', 'range': [3, 8]}]}\n",
      "51 {'text': 'The <e1>room</e1> was filled with huge Jack-the-Dripper <e2>canvases</e2>.', 'entities': [{'text': 'Jack', 'label': 'PERSON', 'range': [39, 43]}]}\n",
      "52 {'text': 'The <e1>gulp</e1> of <e2>magpies</e2> just left after a quick breakfast of peanuts and cookie crumbs.', 'entities': []}\n",
      "53 {'text': 'The proposal was debated and enthusiastically endorsed in 2002 by a <e1>convocation</e1> of international <e2>scholars</e2> that included many prominent academics, among them scientists of the stature of the late H. Curien, H. Varmus, P. Crutzen and J. Sachs.', 'entities': [{'text': '2002', 'label': 'DATE', 'range': [58, 62]}, {'text': 'H. Curien', 'label': 'PERSON', 'range': [213, 222]}, {'text': 'H. Varmus', 'label': 'PERSON', 'range': [224, 233]}, {'text': 'P. Crutzen', 'label': 'PERSON', 'range': [235, 245]}, {'text': 'J. Sachs', 'label': 'PERSON', 'range': [250, 258]}]}\n",
      "54 {'text': 'In South Africa, which has one of the best police to public ratios on the continent, the share of <e1>murders</e1> that result in a <e2>conviction</e2> is about 18%, compared to 56% in the US and 61% in the UK.', 'entities': [{'text': 'South Africa', 'label': 'GPE', 'range': [3, 15]}, {'text': 'about 18%', 'label': 'PERCENT', 'range': [155, 164]}, {'text': '56%', 'label': 'PERCENT', 'range': [178, 181]}, {'text': 'US', 'label': 'GPE', 'range': [189, 191]}, {'text': '61%', 'label': 'PERCENT', 'range': [196, 199]}, {'text': 'UK', 'label': 'GPE', 'range': [207, 209]}]}\n",
      "55 {'text': 'A group of <e1>monkeys</e1> who escaped from an <e2>enclosure</e2> at Edinburgh Zoo are one step from being caught.', 'entities': [{'text': 'one', 'label': 'CARDINAL', 'range': [88, 91]}]}\n",
      "56 {'text': 'People now post their <e1>opinions</e1> to this <e2>blog</e2>.', 'entities': []}\n",
      "57 {'text': 'Traffic <e1>vibrations</e1> on the street outside had caused the <e2>movement</e2> of the light.', 'entities': []}\n",
      "58 {'text': \"Poodles of all types were the ideal circus dogs when not dyed pink and wearing <e1>diamond</e1> <e2>colliers</e2> in Via Veneto or Maxim's.\", 'entities': [{'text': 'Maxim', 'label': 'ORG', 'range': [131, 136]}]}\n",
      "59 {'text': 'A digital <e1>door</e1> <e2>lock</e2> is an electronic lock for residential applications such as front doors on apartments and single-family houses.', 'entities': []}\n",
      "60 {'text': '<e1>Red grape</e1> <e2>wine</e2> is an alcoholic fruit drink of between 10 and 14% alcoholic strength.', 'entities': [{'text': 'between 10 and', 'label': 'CARDINAL', 'range': [64, 78]}, {'text': '14%', 'label': 'PERCENT', 'range': [79, 82]}]}\n",
      "61 {'text': 'The text also exists in a <e1>transcript</e1> by a professional <e2>scribe</e2>, which was prepared for Sir Dudley Carleton.', 'entities': [{'text': 'Dudley Carleton', 'label': 'PERSON', 'range': [108, 123]}]}\n",
      "62 {'text': 'A <e1>witch</e1> is able to change events by using <e2>magic</e2>.', 'entities': []}\n",
      "63 {'text': 'The <e1>committee</e1> is an integral part of our <e2>organisation</e2>.', 'entities': []}\n",
      "64 {'text': 'I have inserted a <e1>clock</e1> into the <e2>presentations</e2>.', 'entities': []}\n",
      "65 {'text': 'The <e1>family</e1> constructed some TCU Horned Frog supporting snow <e2>features</e2> as well as just a really nice picture of an old fashioned light post.', 'entities': [{'text': 'TCU', 'label': 'ORG', 'range': [37, 40]}]}\n",
      "66 {'text': 'One simple <e1>method</e1> for clearing small clogs is to use a tried-and-true <e2>combination</e2> of baking soda and vinegar.', 'entities': [{'text': 'One', 'label': 'CARDINAL', 'range': [0, 3]}]}\n",
      "67 {'text': 'The complete <e1>statue</e1>, topped by an imposing <e2>head</e2>, was originally nearly five metres high.', 'entities': [{'text': 'nearly five metres', 'label': 'QUANTITY', 'range': [82, 100]}]}\n",
      "68 {'text': 'In the <e1>article</e1>, the authors explore the <e2>use</e2> of technology in small pharmacy chains.', 'entities': []}\n",
      "69 {'text': 'The following <e1>comments</e1> are provided by <e2>readers</e2> and are the sole responsiblity of the authors.', 'entities': []}\n",
      "70 {'text': 'The Organic Act of 1868 made several specific references to the powers and duties of the <e1>president</e1> of the <e2>university</e2> after stating that he be elected to office by the Board of Regents.', 'entities': [{'text': 'The Organic Act of 1868', 'label': 'LAW', 'range': [0, 23]}, {'text': 'the Board of Regents', 'label': 'ORG', 'range': [181, 201]}]}\n",
      "71 {'text': 'This grand cru <e1>wine</e1> is made from Pinot Noir <e2>grapes</e2> and is medium to full-bodied in style.', 'entities': [{'text': 'Pinot Noir', 'label': 'ORG', 'range': [42, 52]}]}\n",
      "72 {'text': 'The <e1>slide</e1>, which was triggered by an avalanche-control <e2>crew</e2>, damaged one home and blocked the road for most of the day.', 'entities': [{'text': 'one', 'label': 'CARDINAL', 'range': [87, 90]}]}\n",
      "73 {'text': 'Since the <e1>inspector</e1> had left the <e2>yard</e2>, early that morning, he had disappeared.', 'entities': [{'text': 'early that morning', 'label': 'TIME', 'range': [57, 75]}]}\n",
      "74 {'text': 'International ship sewage <e1>regulations</e1> have entered into <e2>force</e2>.', 'entities': []}\n",
      "75 {'text': 'Ambassador SUN Shuzhong answered the <e1>questions</e1> from the local <e2>press</e2> after his visit to the Memorial Center in Kigali on Dec. 28, 2007.', 'entities': [{'text': 'SUN Shuzhong', 'label': 'PERSON', 'range': [11, 23]}, {'text': 'the Memorial Center', 'label': 'FAC', 'range': [105, 124]}, {'text': 'Kigali', 'label': 'GPE', 'range': [128, 134]}, {'text': 'Dec. 28, 2007', 'label': 'DATE', 'range': [138, 151]}]}\n",
      "76 {'text': 'Her <e1>children</e1> have gone into <e2>exile</e2>.', 'entities': []}\n",
      "77 {'text': 'A Bedouin mediator again returned her when her father promised not to hurt her, and then her <e1>father</e1> killed her with an iron <e2>bar</e2>.', 'entities': []}\n",
      "78 {'text': 'He put a <e1>rebound</e1> into an open <e2>net</e2> for his eighth goal.', 'entities': [{'text': 'eighth', 'label': 'ORDINAL', 'range': [60, 66]}]}\n",
      "79 {'text': 'The UBC graduate <e1>student</e1> spent his free time creating an <e2>application</e2> called ColorSplash that lets people play with the colour in their digital photos.', 'entities': [{'text': 'UBC', 'label': 'ORG', 'range': [4, 7]}]}\n",
      "80 {'text': 'The safety <e1>bar</e1> of the <e2>seats</e2> has to be folded down by the passenger and it has to be kept closed during the journey.', 'entities': []}\n",
      "81 {'text': 'By 1715 the cabriole leg was in general use, and the <e1>back</e1> of the <e2>chair</e2> had started to become square in shape: no longer was it the characteristic tall and narrow feature of the previous century.', 'entities': [{'text': '1715', 'label': 'DATE', 'range': [3, 7]}, {'text': 'the previous century', 'label': 'DATE', 'range': [191, 211]}]}\n",
      "82 {'text': 'Muscle <e1>fatigue</e1> is the number one cause of arm muscle <e2>pain</e2>.', 'entities': [{'text': 'one', 'label': 'CARDINAL', 'range': [38, 41]}]}\n",
      "83 {'text': \"Lawhammer coat: A slang term for a man's formal evening coat, because split tails resemble the <e1>claw</e1> of a <e2>hammer</e2>.\", 'entities': [{'text': 'Lawhammer', 'label': 'PERSON', 'range': [0, 9]}, {'text': 'evening', 'label': 'TIME', 'range': [48, 55]}]}\n",
      "84 {'text': 'The <e1>magazine</e1> was founded in order to keep athletes serving as soldiers informed about their <e2>sport</e2> back home.', 'entities': []}\n",
      "85 {'text': 'Many professional <e1>cartomancers</e1> use a regular deck of playing <e2>cards</e2> for divination.', 'entities': []}\n",
      "86 {'text': 'Many <e1>films</e1> have portrayed <e2>mental illness</e2> or used it as a backdrop for other themes.', 'entities': []}\n",
      "87 {'text': 'The software <e1>company</e1> addressed the problem with the <e2>publication</e2> of a fix on Saturday.', 'entities': [{'text': 'Saturday', 'label': 'DATE', 'range': [94, 102]}]}\n",
      "88 {'text': 'Drinking down the rest of his <e1>papaya</e1> <e2>nectar</e2>, and wiping his mouth he turned and hurried away throwing a goodbye and wave over his shoulder madly dashing thorough the crowds.', 'entities': []}\n",
      "89 {'text': 'This <e1>volume</e1> analyzes central <e2>concepts</e2> of the contemporary political debate.', 'entities': []}\n",
      "90 {'text': 'The <e1>defendant</e1> was released from <e2>custody</e2> on March 2, 2001.', 'entities': [{'text': 'March 2, 2001', 'label': 'DATE', 'range': [61, 74]}]}\n",
      "91 {'text': 'In addition, the <e1>plant</e1> builds four-cylinder Ecotec\" that are used in <e2>vehicles</e2> like the Chevy Malibu and Cobalt.\"', 'entities': [{'text': 'four', 'label': 'CARDINAL', 'range': [39, 43]}, {'text': 'Ecotec', 'label': 'ORG', 'range': [53, 59]}, {'text': 'the Chevy Malibu', 'label': 'ORG', 'range': [101, 117]}]}\n",
      "92 {'text': 'We used fried <e1>cheese</e1> as an element in a <e2>dish</e2>.', 'entities': []}\n",
      "93 {'text': 'The <e1>castle</e1> was inside a <e2>museum</e2>.', 'entities': []}\n",
      "94 {'text': 'More and more English Premier League <e1>clubs</e1> are falling into foreign <e2>ownership</e2>.', 'entities': [{'text': 'English', 'label': 'NORP', 'range': [14, 21]}]}\n",
      "95 {'text': 'The <e1>man</e1> was carried into a waiting police <e2>car</e2> from Coleraine Times.', 'entities': [{'text': 'Coleraine Times', 'label': 'ORG', 'range': [69, 84]}]}\n",
      "96 {'text': 'The aim of this <e1>section</e1> is the <e2>interpretation</e2> of the results and their relation to the existing knowledge.', 'entities': []}\n",
      "97 {'text': 'Bunn has recalled 35,600 single-cup pod brewers because the <e1>drawer</e1> of the <e2>coffeemaker</e2> opens unexpectedly during a brew cycle, posing a burn hazard to consumers.', 'entities': [{'text': 'Bunn', 'label': 'ORG', 'range': [0, 4]}, {'text': '35,600', 'label': 'CARDINAL', 'range': [18, 24]}]}\n",
      "98 {'text': 'A probe <e1>tube</e1> is introduced into a reaction <e2>container</e2> for measuring the operating condition of a medium in the interior of the container.', 'entities': [{'text': 'e1>tube</e1>', 'label': 'ORG', 'range': [9, 21]}]}\n",
      "99 {'text': 'David Mamet took questions from the audience and shared his <e1>views</e1> on topics such as <e2>television</e2>, the democracy of culture and the English accent.', 'entities': [{'text': 'David Mamet', 'label': 'PERSON', 'range': [0, 11]}, {'text': 'English', 'label': 'LANGUAGE', 'range': [147, 154]}]}\n",
      "100 {'text': 'Additionally, the <e1>chapter</e1> points out the <e2>importance</e2> of new employee orientation and lists some of the important things to cover during that process.', 'entities': []}\n",
      "101 {'text': 'The monitoring <e1>station</e1> receives the signal through a communication <e2>device</e2> and the combined signal is processed to retrieve GPS data.', 'entities': []}\n",
      "102 {'text': 'In this approach, correction and police personnel jointly sought to locate and apprehend <e1>offenders</e1> who had absconded from parole and probation <e2>officers</e2>.', 'entities': []}\n",
      "103 {'text': 'The major theme of the <e1>book</e1> is the <e2>beauty</e2> of a dream.', 'entities': []}\n",
      "104 {'text': 'It spilled more than 53000 gallons of crude oil into the surrounding marshes one of the bigger <e1>spills</e1> caused by the <e2>hurricane</e2>.', 'entities': [{'text': 'more than 53000 gallons', 'label': 'QUANTITY', 'range': [11, 34]}]}\n",
      "105 {'text': 'Eighteen <e1>studies</e1> were focused on older <e2>adults</e2> living at home.', 'entities': [{'text': 'Eighteen', 'label': 'CARDINAL', 'range': [0, 8]}]}\n",
      "106 {'text': 'The <e1>diseases</e1> are caused by <e2>gene mutations</e2> on the X chromosome.', 'entities': []}\n",
      "107 {'text': 'The pretexts offered were laughable, and the <e1>response</e1> caused scarcely a <e2>ripple</e2> on the flood of commentary on Washington\\'s noble efforts to spread democracy\".\"', 'entities': [{'text': 'Washington', 'label': 'GPE', 'range': [127, 137]}]}\n",
      "108 {'text': 'The size of a <e1>tree</e1> <e2>crown</e2> is strongly correlated with the growth of the tree.', 'entities': []}\n",
      "109 {'text': 'The State Capital is a disgusting sewer and Bruno is just one in the <e1>mischief</e1> of filthy <e2>rats</e2> that proliferate there.', 'entities': [{'text': 'The State Capital', 'label': 'ORG', 'range': [0, 17]}, {'text': 'Bruno', 'label': 'PERSON', 'range': [44, 49]}]}\n",
      "110 {'text': 'Sci-Fi Channel is the <e1>cable network</e1> exclusively dedicated to offering classic <e2>science fiction TV shows</e2> and movies, as well as bold original programming.', 'entities': [{'text': 'Sci-Fi Channel', 'label': 'ORG', 'range': [0, 14]}]}\n",
      "111 {'text': 'The mummified <e1>cat</e1> was found in a live <e2>trap</e2> with an empty dish.', 'entities': []}\n",
      "112 {'text': 'The <e1>stories</e1> are narrated through <e2>dance</e2>.', 'entities': []}\n",
      "113 {'text': \"The <e1>foundry</e1>'s major product lines include manhole <e2>frames</e2> and utility covers, airport castings, drainage products, Trench Grates, hydrant and valve components, and industrial castings.\", 'entities': [{'text': 'Trench Grates', 'label': 'PERSON', 'range': [132, 145]}]}\n",
      "114 {'text': 'The <e1>air</e1> was filled with the <e2>smell</e2> of burning plastic.', 'entities': []}\n",
      "115 {'text': 'Lisa took great <e1>joy</e1> from <e2>laughing</e2>, volunteering at school, taking pictures, chatting, the Twins and Vikings, playing softball and volleyball, and time at Lake Vermilion.', 'entities': [{'text': 'Lisa', 'label': 'PERSON', 'range': [0, 4]}, {'text': 'Lake Vermilion', 'label': 'FAC', 'range': [172, 186]}]}\n",
      "116 {'text': 'Such <e1>lines</e1> from the pen of a young <e2>author</e2> widely read by the younger part of the population only confirm the profound change in the mood of the Freuch proletariat.', 'entities': [{'text': 'Freuch', 'label': 'PERSON', 'range': [162, 168]}]}\n",
      "117 {'text': 'The <e1>receiver</e1> was outputting the same <e2>tone</e2> to my Deva 5.', 'entities': []}\n",
      "118 {'text': 'At least 12 people were killed yesterday when a <e1>squad</e1> of heavily armed <e2>militants</e2> stormed the police training school on the outskirts of Lahore, spraying it with gunfire and grenades.', 'entities': [{'text': 'At least 12', 'label': 'CARDINAL', 'range': [0, 11]}, {'text': 'yesterday', 'label': 'DATE', 'range': [31, 40]}, {'text': 'Lahore', 'label': 'GPE', 'range': [154, 160]}]}\n",
      "119 {'text': 'The <e1>telescope</e1> comprises <e2>lenses</e2> and tubes: both are extremely important to the performance of the telescope.', 'entities': []}\n",
      "120 {'text': 'We poured the <e1>pulp</e1> into the <e2>tupperware tub</e2> filled with water.', 'entities': []}\n",
      "121 {'text': '<e1>Carpenters</e1> build many things from <e2>wood</e2> and other materials, like buildings and boats.', 'entities': []}\n",
      "122 {'text': 'Milk <e1>samples</e1> were obtained from one <e2>milking</e2> of each cow.', 'entities': []}\n",
      "123 {'text': \"There's a comparison between the intimacy and accountability offered by a novel and that offered by a blog in which the <e1>blogger</e1> is participant in an on going <e2>conversation</e2>, in which the line between reader and original poster is blurred beyond recognition, in which collective comment replaces old-fashioned ivory tower editing with a kind of universal peer review.\", 'entities': []}\n",
      "124 {'text': 'His <e1>speech</e1> criticised the <e2>idea</e2> of religious education as a journey around the various religions.', 'entities': []}\n",
      "125 {'text': 'The bread prepared with <e1>rice</e1> <e2>flour</e2> was considered good by 25% of the assessors, regular by 33%, very bad by 17% and very good by only 8%.', 'entities': [{'text': '25%', 'label': 'PERCENT', 'range': [76, 79]}, {'text': '33%', 'label': 'PERCENT', 'range': [109, 112]}, {'text': '17%', 'label': 'PERCENT', 'range': [126, 129]}, {'text': 'only 8%', 'label': 'PERCENT', 'range': [147, 154]}]}\n",
      "126 {'text': 'The <e1>body</e1> unleashes its extraterrestrial <e2>passenger</e2>, which proceeds to infect the student population at a breakneck pace.', 'entities': []}\n",
      "127 {'text': '<e1>Asteroid</e1> threatened Earth with <e2>disaster</e2>.', 'entities': [{'text': 'Earth', 'label': 'LOC', 'range': [29, 34]}]}\n",
      "CPU times: user 831 ms, sys: 11.6 ms, total: 842 ms\n",
      "Wall time: 839 ms\n"
     ]
    }
   ],
   "source": [
    "%%time\n",
    "res = get_list_ents(list(df_semeval[1].values)[:4*mini_batch_size])\n",
    "for i,s in enumerate(res):\n",
    "    print(i,s)"
   ]
  },
  {
   "cell_type": "code",
   "execution_count": 16,
   "id": "1b5eb94b",
   "metadata": {},
   "outputs": [
    {
     "name": "stdout",
     "output_type": "stream",
     "text": [
      "CPU times: user 38.4 s, sys: 2.45 s, total: 40.9 s\n",
      "Wall time: 38.1 s\n"
     ]
    }
   ],
   "source": [
    "%%time\n",
    "# iterate through sentences and print predicted labels\n",
    "mini_batch_size = 32\n",
    "sentences = [Sentence(s) for s in list(df_semeval[1].values)[:4*mini_batch_size]]\n",
    "tagger.predict(sentences, mini_batch_size=mini_batch_size)\n",
    "#print(sentence.to_tagged_string())"
   ]
  },
  {
   "cell_type": "code",
   "execution_count": 24,
   "id": "429bee21",
   "metadata": {},
   "outputs": [
    {
     "name": "stdout",
     "output_type": "stream",
     "text": [
      "0 {'text': 'The most common <e1>audits</e1> were about <e2>waste</e2> and recycling.', 'labels': [], 'entities': []}\n",
      "1 {'text': 'The <e1>company</e1> fabricates plastic <e2>chairs</e2>.', 'labels': [], 'entities': []}\n",
      "2 {'text': 'The school <e1>master</e1> teaches the lesson with a <e2>stick</e2>.', 'labels': [], 'entities': []}\n",
      "3 {'text': 'The suspect dumped the dead <e1>body</e1> into a local <e2>reservoir</e2>.', 'labels': [], 'entities': []}\n",
      "4 {'text': 'Avian <e1>influenza</e1> is an infectious disease of birds caused by type A strains of the influenza <e2>virus</e2>.', 'labels': [], 'entities': []}\n",
      "5 {'text': 'The <e1>ear</e1> of the African <e2>elephant</e2> is significantly larger--measuring 183 cm by 114 cm in the bush elephant.', 'labels': [], 'entities': [{'text': 'African', 'start_pos': 24, 'end_pos': 31, 'labels': [MISC (0.9657)]}]}\n",
      "6 {'text': 'A child is told a <e1>lie</e1> for several years by their <e2>parents</e2> before he/she realizes that a Santa Claus does not exist.', 'labels': [], 'entities': [{'text': 'Santa Claus', 'start_pos': 105, 'end_pos': 116, 'labels': [LOC (0.8252)]}]}\n",
      "7 {'text': 'Skype, a free software, allows a <e1>hookup</e1> of multiple computer <e2>users</e2> to join in an online conference call without incurring any telephone costs.', 'labels': [], 'entities': [{'text': 'Skype', 'start_pos': 0, 'end_pos': 5, 'labels': [MISC (0.5974)]}]}\n",
      "8 {'text': 'The disgusting scene was retaliation against her brother Philip who rents the <e1>room</e1> inside this apartment <e2>house</e2> on Lombard street.', 'labels': [], 'entities': [{'text': 'Philip', 'start_pos': 57, 'end_pos': 63, 'labels': [PER (0.9938)]}, {'text': 'Lombard', 'start_pos': 132, 'end_pos': 139, 'labels': [LOC (0.7148)]}]}\n",
      "9 {'text': 'This <e1>thesis</e1> defines the <e2>clinical characteristics</e2> of amyloid disease.', 'labels': [], 'entities': []}\n",
      "10 {'text': 'Ten million quake <e1>survivors</e1> moved into makeshift <e2>houses</e2>.', 'labels': [], 'entities': []}\n",
      "11 {'text': \"On a friend's advice, I purchased a sauerkraut and <e1>kimchi</e1> <e2>maker</e2> here and it is just fabulous (and cheap too).\", 'labels': [], 'entities': []}\n",
      "12 {'text': 'NASA Kepler mission sends <e1>names</e1> into <e2>space</e2>.', 'labels': [], 'entities': [{'text': 'NASA Kepler', 'start_pos': 0, 'end_pos': 11, 'labels': [ORG (0.7247)]}]}\n",
      "13 {'text': 'As a <e1>landscape</e1> <e2>company</e2> in Atlanta, we know which plants thrive in this planting zone and know the optimum landscaping designs for local yards and business.', 'labels': [], 'entities': [{'text': 'Atlanta', 'start_pos': 44, 'end_pos': 51, 'labels': [LOC (0.9999)]}]}\n",
      "14 {'text': 'As I was contemplating if I had a favorite in the pink category, a <e1>gift</e1> arrived from a sweet <e2>friend</e2>.', 'labels': [], 'entities': []}\n",
      "15 {'text': 'The male took over the entire care of the <e1>young</e1> that had left the <e2>nest</e2>.', 'labels': [], 'entities': []}\n",
      "16 {'text': 'The famous <e1>actress</e1> arrived at the <e2>airport</e2>.', 'labels': [], 'entities': []}\n",
      "17 {'text': 'An FTP server is an inexpensive and relatively simple to operate tool that works great for <e1>filesharing</e1> over the <e2>internet</e2>.', 'labels': [], 'entities': []}\n",
      "18 {'text': \"Beneath this invocation there is a <e1>zoo</e1> of fearsome <e2>beasts</e2>, including several man-eaters, as well as sphinxes with lions' bodies and human heads.\", 'labels': [], 'entities': []}\n",
      "19 {'text': 'The <e1>song</e1> was composed for a famous Brazilian <e2>musician</e2>.', 'labels': [], 'entities': [{'text': 'Brazilian', 'start_pos': 44, 'end_pos': 53, 'labels': [MISC (0.9995)]}]}\n",
      "20 {'text': 'This <e1>outline</e1> focuses on <e2>spirituality</e2>, esotericism, mysticism, religion and/or parapsychology.', 'labels': [], 'entities': []}\n",
      "21 {'text': 'The <e1>bomb</e1> was in a <e2>suitcase</e2> loaded in Frankfurt and transferred to the doomed Boeing 747 in London.', 'labels': [], 'entities': [{'text': 'Frankfurt', 'start_pos': 55, 'end_pos': 64, 'labels': [LOC (0.9998)]}, {'text': 'Boeing 747', 'start_pos': 95, 'end_pos': 105, 'labels': [MISC (0.9915)]}, {'text': 'London', 'start_pos': 109, 'end_pos': 115, 'labels': [LOC (1.0)]}]}\n",
      "22 {'text': 'I spent a year working for a <e1>software</e1> <e2>company</e2> to pay off my college loans.', 'labels': [], 'entities': []}\n",
      "23 {'text': 'The <e1>captain</e1> and the <e2>crew</e2> of the Steve Irwin are grateful for the support of the City of Fremantle and Mayor Brad Pettitt for hosting the event.', 'labels': [], 'entities': [{'text': 'Steve Irwin', 'start_pos': 50, 'end_pos': 61, 'labels': [PER (0.9954)]}, {'text': 'City of Fremantle', 'start_pos': 98, 'end_pos': 115, 'labels': [ORG (0.6553)]}, {'text': 'Brad Pettitt', 'start_pos': 126, 'end_pos': 138, 'labels': [PER (0.9999)]}]}\n",
      "24 {'text': 'Organic <e1>sesame</e1> <e2>oil</e2> has an anti-bacterial and anti imflammatory effect.', 'labels': [], 'entities': []}\n",
      "25 {'text': 'Mileson has sold his humble abode to a <e1>housing</e1> <e2>developer</e2>.', 'labels': [], 'entities': [{'text': 'Mileson', 'start_pos': 0, 'end_pos': 7, 'labels': [PER (0.9994)]}]}\n",
      "26 {'text': 'The same <e1>effect</e1> is achieved the traditional <e2>way</e2>, with a team of workers like Keebler elves.', 'labels': [], 'entities': [{'text': 'Keebler', 'start_pos': 95, 'end_pos': 102, 'labels': [ORG (0.8742)]}]}\n",
      "27 {'text': 'He has built a formidable reputation writing powerful <e1>dramas</e1> for the stage and screen, based on <e2>real events</e2> or socially vital issues.', 'labels': [], 'entities': []}\n",
      "28 {'text': 'He produces <e1>drawings</e1> and videos that have been shown in <e2>museums</e2> in Europe and America.', 'labels': [], 'entities': [{'text': 'Europe', 'start_pos': 85, 'end_pos': 91, 'labels': [LOC (0.9849)]}, {'text': 'America', 'start_pos': 96, 'end_pos': 103, 'labels': [LOC (0.9992)]}]}\n",
      "29 {'text': 'Therefore, nowadays China is the complex mixture of different <e1>cultures</e1> from various <e2>epochs</e2>.', 'labels': [], 'entities': [{'text': 'China', 'start_pos': 20, 'end_pos': 25, 'labels': [LOC (1.0)]}]}\n",
      "30 {'text': 'Of the hundreds of strains of avian influenza A <e1>viruses</e1>, only four have caused human <e2>infections</e2>: H5N1, H7N3, H7N7, and H9N2.', 'labels': [], 'entities': []}\n",
      "31 {'text': 'Many of his literary <e1>pieces</e1> narrate and mention <e2>stories</e2> that took place in Lipa.', 'labels': [], 'entities': [{'text': 'Lipa', 'start_pos': 93, 'end_pos': 97, 'labels': [LOC (0.9992)]}]}\n",
      "32 {'text': \"When I'm walking alone, I count the <e1>steps</e1> of the <e2>stairs</e2>, and I also guess approximately how many steps are left till I reach the next street.\", 'labels': [], 'entities': []}\n",
      "33 {'text': 'Essentially, the <e1>blisters</e1> that appear in the mouth are caused by the <e2>herpes simplex virus</e2> type 1, HSV-1 for short.', 'labels': [], 'entities': []}\n",
      "34 {'text': 'The man at the helm was watching the <e1>luff</e1> of the <e2>sail</e2> and whistling away gently to himself, and that was the only sound excepting the swish of the sea.', 'labels': [], 'entities': []}\n",
      "35 {'text': 'Still further, the <e1>circuit</e1> comprises a digital adder and an analog-to-digital <e2>converter</e2> with an analog input connected to the output of the operational amplifier and a digital output connected to a first input of the digital adder.', 'labels': [], 'entities': []}\n",
      "36 {'text': 'Dolf Oehler, a leader in the leftist <e1>camp</e1> of Heine <e2>champions</e2> since the 1970s, gathered a group of likeminded critics for this symposium.', 'labels': [], 'entities': [{'text': 'Dolf Oehler', 'start_pos': 0, 'end_pos': 11, 'labels': [PER (0.9925)]}, {'text': 'Heine', 'start_pos': 54, 'end_pos': 59, 'labels': [ORG (0.3644)]}]}\n",
      "37 {'text': 'The <e1>cartridge</e1> was marked as empty, even with <e2>ink</e2> in both chambers.', 'labels': [], 'entities': []}\n",
      "38 {'text': \"A <e1>pod</e1> of sperm <e2>whales</e2> was beached on Italy's southern coast and at least five died in what experts said was a rare and puzzling mass beaching for such a large species.\", 'labels': [], 'entities': [{'text': 'Italy', 'start_pos': 55, 'end_pos': 60, 'labels': [LOC (0.9993)]}]}\n",
      "39 {'text': '<e1>Roundworms</e1> or ascarids are caused by an intestinal <e2>parasite</e2> called Toxocara canis.', 'labels': [], 'entities': []}\n",
      "40 {'text': 'The <e1>subject</e1> of imply\" is the source of an <e2>implication</e2> while the subject of \"infer\" is the recipient of an implication.\"', 'labels': [], 'entities': []}\n",
      "41 {'text': 'My <e1>cat</e1> has a problem with his <e2>paw</e2>.', 'labels': [], 'entities': []}\n",
      "42 {'text': 'The <e1>treaty</e1> establishes a double majority <e2>rule</e2> for Council decisions.', 'labels': [], 'entities': []}\n",
      "43 {'text': 'The accident has spread <e1>oil</e1> into the <e2>ocean</e2>.', 'labels': [], 'entities': []}\n",
      "44 {'text': 'A tidal wave of <e1>talent</e1> has emanated from this lush <e2>village</e2>.', 'labels': [], 'entities': []}\n",
      "45 {'text': 'These <e1>coins</e1> are enclosed in a clear hard <e2>plastic case</e2> with a blue background that is packaged in a blue box.', 'labels': [], 'entities': []}\n",
      "46 {'text': 'By dividing the <e1>space</e1> in a kitchen <e2>drawer</e2> where you keep all your cooking utensils, you grouped items by size or purpose.', 'labels': [], 'entities': []}\n",
      "47 {'text': 'Then, the target PET <e1>bottle</e1> was put inside of a metal <e2>container</e2>, which was grounded.', 'labels': [], 'entities': []}\n",
      "48 {'text': \"<e1>News programs</e1> commented on the <e2>violence</e2> from the game and expressed worries on how it would affect the players' personalities.\", 'labels': [], 'entities': []}\n",
      "49 {'text': \"The <e1>narrative</e1> comprises the <e2>interplay</e2> of two themes that are woven together as it criss-crosses back and forth between the life of nineteen year old Greg Kowalski's desire to become a firefighter and his heart-rending life growing up in Saginaw Michigan where he had to endure the physical and verbal abuse handed out by his appalling father.\", 'labels': [], 'entities': [{'text': 'Greg Kowalski', 'start_pos': 167, 'end_pos': 180, 'labels': [PER (0.9994)]}, {'text': 'Saginaw Michigan', 'start_pos': 255, 'end_pos': 271, 'labels': [LOC (0.9898)]}]}\n",
      "50 {'text': 'As Vinay collapsed in pain, the villagers poured <e1>acid</e1> into his <e2>eyes</e2>.', 'labels': [], 'entities': [{'text': 'Vinay', 'start_pos': 3, 'end_pos': 8, 'labels': [PER (0.9981)]}]}\n",
      "51 {'text': 'The <e1>room</e1> was filled with huge Jack-the-Dripper <e2>canvases</e2>.', 'labels': [], 'entities': []}\n",
      "52 {'text': 'The <e1>gulp</e1> of <e2>magpies</e2> just left after a quick breakfast of peanuts and cookie crumbs.', 'labels': [], 'entities': []}\n",
      "53 {'text': 'The proposal was debated and enthusiastically endorsed in 2002 by a <e1>convocation</e1> of international <e2>scholars</e2> that included many prominent academics, among them scientists of the stature of the late H. Curien, H. Varmus, P. Crutzen and J. Sachs.', 'labels': [], 'entities': [{'text': 'Curien', 'start_pos': 216, 'end_pos': 222, 'labels': [PER (0.4408)]}, {'text': 'H. Varmus', 'start_pos': 224, 'end_pos': 233, 'labels': [PER (0.9978)]}, {'text': 'P. Crutzen', 'start_pos': 235, 'end_pos': 245, 'labels': [PER (0.9977)]}, {'text': 'J. Sachs', 'start_pos': 250, 'end_pos': 258, 'labels': [PER (0.9946)]}]}\n",
      "54 {'text': 'In South Africa, which has one of the best police to public ratios on the continent, the share of <e1>murders</e1> that result in a <e2>conviction</e2> is about 18%, compared to 56% in the US and 61% in the UK.', 'labels': [], 'entities': [{'text': 'South Africa', 'start_pos': 3, 'end_pos': 15, 'labels': [LOC (0.9979)]}, {'text': 'US', 'start_pos': 189, 'end_pos': 191, 'labels': [LOC (0.9964)]}, {'text': 'UK', 'start_pos': 207, 'end_pos': 209, 'labels': [LOC (0.9995)]}]}\n",
      "55 {'text': 'A group of <e1>monkeys</e1> who escaped from an <e2>enclosure</e2> at Edinburgh Zoo are one step from being caught.', 'labels': [], 'entities': [{'text': 'Edinburgh Zoo', 'start_pos': 70, 'end_pos': 83, 'labels': [ORG (0.6217)]}]}\n",
      "56 {'text': 'People now post their <e1>opinions</e1> to this <e2>blog</e2>.', 'labels': [], 'entities': []}\n",
      "57 {'text': 'Traffic <e1>vibrations</e1> on the street outside had caused the <e2>movement</e2> of the light.', 'labels': [], 'entities': []}\n",
      "58 {'text': \"Poodles of all types were the ideal circus dogs when not dyed pink and wearing <e1>diamond</e1> <e2>colliers</e2> in Via Veneto or Maxim's.\", 'labels': [], 'entities': [{'text': 'Via Veneto', 'start_pos': 117, 'end_pos': 127, 'labels': [LOC (0.7631)]}, {'text': \"Maxim's\", 'start_pos': 131, 'end_pos': 138, 'labels': [ORG (0.9189)]}]}\n",
      "59 {'text': 'A digital <e1>door</e1> <e2>lock</e2> is an electronic lock for residential applications such as front doors on apartments and single-family houses.', 'labels': [], 'entities': []}\n",
      "60 {'text': '<e1>Red grape</e1> <e2>wine</e2> is an alcoholic fruit drink of between 10 and 14% alcoholic strength.', 'labels': [], 'entities': []}\n",
      "61 {'text': 'The text also exists in a <e1>transcript</e1> by a professional <e2>scribe</e2>, which was prepared for Sir Dudley Carleton.', 'labels': [], 'entities': [{'text': 'Dudley Carleton', 'start_pos': 108, 'end_pos': 123, 'labels': [PER (0.9583)]}]}\n",
      "62 {'text': 'A <e1>witch</e1> is able to change events by using <e2>magic</e2>.', 'labels': [], 'entities': []}\n",
      "63 {'text': 'The <e1>committee</e1> is an integral part of our <e2>organisation</e2>.', 'labels': [], 'entities': []}\n",
      "64 {'text': 'I have inserted a <e1>clock</e1> into the <e2>presentations</e2>.', 'labels': [], 'entities': []}\n",
      "65 {'text': 'The <e1>family</e1> constructed some TCU Horned Frog supporting snow <e2>features</e2> as well as just a really nice picture of an old fashioned light post.', 'labels': [], 'entities': []}\n",
      "66 {'text': 'One simple <e1>method</e1> for clearing small clogs is to use a tried-and-true <e2>combination</e2> of baking soda and vinegar.', 'labels': [], 'entities': []}\n",
      "67 {'text': 'The complete <e1>statue</e1>, topped by an imposing <e2>head</e2>, was originally nearly five metres high.', 'labels': [], 'entities': []}\n",
      "68 {'text': 'In the <e1>article</e1>, the authors explore the <e2>use</e2> of technology in small pharmacy chains.', 'labels': [], 'entities': []}\n",
      "69 {'text': 'The following <e1>comments</e1> are provided by <e2>readers</e2> and are the sole responsiblity of the authors.', 'labels': [], 'entities': []}\n",
      "70 {'text': 'The Organic Act of 1868 made several specific references to the powers and duties of the <e1>president</e1> of the <e2>university</e2> after stating that he be elected to office by the Board of Regents.', 'labels': [], 'entities': [{'text': 'Organic Act of 1868', 'start_pos': 4, 'end_pos': 23, 'labels': [MISC (0.8962)]}, {'text': 'Board of Regents', 'start_pos': 185, 'end_pos': 201, 'labels': [ORG (0.9932)]}]}\n",
      "71 {'text': 'This grand cru <e1>wine</e1> is made from Pinot Noir <e2>grapes</e2> and is medium to full-bodied in style.', 'labels': [], 'entities': []}\n",
      "72 {'text': 'The <e1>slide</e1>, which was triggered by an avalanche-control <e2>crew</e2>, damaged one home and blocked the road for most of the day.', 'labels': [], 'entities': []}\n",
      "73 {'text': 'Since the <e1>inspector</e1> had left the <e2>yard</e2>, early that morning, he had disappeared.', 'labels': [], 'entities': []}\n",
      "74 {'text': 'International ship sewage <e1>regulations</e1> have entered into <e2>force</e2>.', 'labels': [], 'entities': []}\n",
      "75 {'text': 'Ambassador SUN Shuzhong answered the <e1>questions</e1> from the local <e2>press</e2> after his visit to the Memorial Center in Kigali on Dec. 28, 2007.', 'labels': [], 'entities': [{'text': 'SUN Shuzhong', 'start_pos': 11, 'end_pos': 23, 'labels': [PER (0.754)]}, {'text': 'Memorial Center', 'start_pos': 109, 'end_pos': 124, 'labels': [ORG (0.7172)]}, {'text': 'Kigali', 'start_pos': 128, 'end_pos': 134, 'labels': [LOC (0.9999)]}]}\n",
      "76 {'text': 'Her <e1>children</e1> have gone into <e2>exile</e2>.', 'labels': [], 'entities': []}\n",
      "77 {'text': 'A Bedouin mediator again returned her when her father promised not to hurt her, and then her <e1>father</e1> killed her with an iron <e2>bar</e2>.', 'labels': [], 'entities': [{'text': 'Bedouin', 'start_pos': 2, 'end_pos': 9, 'labels': [MISC (0.9979)]}]}\n",
      "78 {'text': 'He put a <e1>rebound</e1> into an open <e2>net</e2> for his eighth goal.', 'labels': [], 'entities': []}\n",
      "79 {'text': 'The UBC graduate <e1>student</e1> spent his free time creating an <e2>application</e2> called ColorSplash that lets people play with the colour in their digital photos.', 'labels': [], 'entities': [{'text': 'UBC', 'start_pos': 4, 'end_pos': 7, 'labels': [ORG (0.9252)]}, {'text': 'ColorSplash', 'start_pos': 94, 'end_pos': 105, 'labels': [MISC (0.8025)]}]}\n",
      "80 {'text': 'The safety <e1>bar</e1> of the <e2>seats</e2> has to be folded down by the passenger and it has to be kept closed during the journey.', 'labels': [], 'entities': []}\n",
      "81 {'text': 'By 1715 the cabriole leg was in general use, and the <e1>back</e1> of the <e2>chair</e2> had started to become square in shape: no longer was it the characteristic tall and narrow feature of the previous century.', 'labels': [], 'entities': []}\n",
      "82 {'text': 'Muscle <e1>fatigue</e1> is the number one cause of arm muscle <e2>pain</e2>.', 'labels': [], 'entities': []}\n",
      "83 {'text': \"Lawhammer coat: A slang term for a man's formal evening coat, because split tails resemble the <e1>claw</e1> of a <e2>hammer</e2>.\", 'labels': [], 'entities': []}\n",
      "84 {'text': 'The <e1>magazine</e1> was founded in order to keep athletes serving as soldiers informed about their <e2>sport</e2> back home.', 'labels': [], 'entities': []}\n",
      "85 {'text': 'Many professional <e1>cartomancers</e1> use a regular deck of playing <e2>cards</e2> for divination.', 'labels': [], 'entities': []}\n",
      "86 {'text': 'Many <e1>films</e1> have portrayed <e2>mental illness</e2> or used it as a backdrop for other themes.', 'labels': [], 'entities': []}\n",
      "87 {'text': 'The software <e1>company</e1> addressed the problem with the <e2>publication</e2> of a fix on Saturday.', 'labels': [], 'entities': []}\n",
      "88 {'text': 'Drinking down the rest of his <e1>papaya</e1> <e2>nectar</e2>, and wiping his mouth he turned and hurried away throwing a goodbye and wave over his shoulder madly dashing thorough the crowds.', 'labels': [], 'entities': []}\n",
      "89 {'text': 'This <e1>volume</e1> analyzes central <e2>concepts</e2> of the contemporary political debate.', 'labels': [], 'entities': []}\n",
      "90 {'text': 'The <e1>defendant</e1> was released from <e2>custody</e2> on March 2, 2001.', 'labels': [], 'entities': []}\n",
      "91 {'text': 'In addition, the <e1>plant</e1> builds four-cylinder Ecotec\" that are used in <e2>vehicles</e2> like the Chevy Malibu and Cobalt.\"', 'labels': [], 'entities': [{'text': 'Chevy Malibu and Cobalt', 'start_pos': 105, 'end_pos': 128, 'labels': [MISC (0.6358)]}]}\n",
      "92 {'text': 'We used fried <e1>cheese</e1> as an element in a <e2>dish</e2>.', 'labels': [], 'entities': []}\n",
      "93 {'text': 'The <e1>castle</e1> was inside a <e2>museum</e2>.', 'labels': [], 'entities': []}\n",
      "94 {'text': 'More and more English Premier League <e1>clubs</e1> are falling into foreign <e2>ownership</e2>.', 'labels': [], 'entities': [{'text': 'English Premier League', 'start_pos': 14, 'end_pos': 36, 'labels': [MISC (0.8494)]}]}\n",
      "95 {'text': 'The <e1>man</e1> was carried into a waiting police <e2>car</e2> from Coleraine Times.', 'labels': [], 'entities': [{'text': 'Coleraine Times', 'start_pos': 69, 'end_pos': 84, 'labels': [ORG (0.9164)]}]}\n",
      "96 {'text': 'The aim of this <e1>section</e1> is the <e2>interpretation</e2> of the results and their relation to the existing knowledge.', 'labels': [], 'entities': []}\n",
      "97 {'text': 'Bunn has recalled 35,600 single-cup pod brewers because the <e1>drawer</e1> of the <e2>coffeemaker</e2> opens unexpectedly during a brew cycle, posing a burn hazard to consumers.', 'labels': [], 'entities': [{'text': 'Bunn', 'start_pos': 0, 'end_pos': 4, 'labels': [ORG (0.7317)]}]}\n",
      "98 {'text': 'A probe <e1>tube</e1> is introduced into a reaction <e2>container</e2> for measuring the operating condition of a medium in the interior of the container.', 'labels': [], 'entities': []}\n",
      "99 {'text': 'David Mamet took questions from the audience and shared his <e1>views</e1> on topics such as <e2>television</e2>, the democracy of culture and the English accent.', 'labels': [], 'entities': [{'text': 'David Mamet', 'start_pos': 0, 'end_pos': 11, 'labels': [PER (0.9996)]}, {'text': 'English', 'start_pos': 147, 'end_pos': 154, 'labels': [MISC (0.9998)]}]}\n",
      "100 {'text': 'Additionally, the <e1>chapter</e1> points out the <e2>importance</e2> of new employee orientation and lists some of the important things to cover during that process.', 'labels': [], 'entities': []}\n",
      "101 {'text': 'The monitoring <e1>station</e1> receives the signal through a communication <e2>device</e2> and the combined signal is processed to retrieve GPS data.', 'labels': [], 'entities': []}\n",
      "102 {'text': 'In this approach, correction and police personnel jointly sought to locate and apprehend <e1>offenders</e1> who had absconded from parole and probation <e2>officers</e2>.', 'labels': [], 'entities': []}\n",
      "103 {'text': 'The major theme of the <e1>book</e1> is the <e2>beauty</e2> of a dream.', 'labels': [], 'entities': []}\n",
      "104 {'text': 'It spilled more than 53000 gallons of crude oil into the surrounding marshes one of the bigger <e1>spills</e1> caused by the <e2>hurricane</e2>.', 'labels': [], 'entities': []}\n",
      "105 {'text': 'Eighteen <e1>studies</e1> were focused on older <e2>adults</e2> living at home.', 'labels': [], 'entities': []}\n",
      "106 {'text': 'The <e1>diseases</e1> are caused by <e2>gene mutations</e2> on the X chromosome.', 'labels': [], 'entities': []}\n",
      "107 {'text': 'The pretexts offered were laughable, and the <e1>response</e1> caused scarcely a <e2>ripple</e2> on the flood of commentary on Washington\\'s noble efforts to spread democracy\".\"', 'labels': [], 'entities': [{'text': 'Washington', 'start_pos': 127, 'end_pos': 137, 'labels': [LOC (0.9806)]}]}\n",
      "108 {'text': 'The size of a <e1>tree</e1> <e2>crown</e2> is strongly correlated with the growth of the tree.', 'labels': [], 'entities': []}\n",
      "109 {'text': 'The State Capital is a disgusting sewer and Bruno is just one in the <e1>mischief</e1> of filthy <e2>rats</e2> that proliferate there.', 'labels': [], 'entities': [{'text': 'State Capital', 'start_pos': 4, 'end_pos': 17, 'labels': [LOC (0.6799)]}, {'text': 'Bruno', 'start_pos': 44, 'end_pos': 49, 'labels': [MISC (0.539)]}]}\n",
      "110 {'text': 'Sci-Fi Channel is the <e1>cable network</e1> exclusively dedicated to offering classic <e2>science fiction TV shows</e2> and movies, as well as bold original programming.', 'labels': [], 'entities': [{'text': 'Sci-Fi Channel', 'start_pos': 0, 'end_pos': 14, 'labels': [MISC (0.6757)]}]}\n",
      "111 {'text': 'The mummified <e1>cat</e1> was found in a live <e2>trap</e2> with an empty dish.', 'labels': [], 'entities': []}\n",
      "112 {'text': 'The <e1>stories</e1> are narrated through <e2>dance</e2>.', 'labels': [], 'entities': []}\n",
      "113 {'text': \"The <e1>foundry</e1>'s major product lines include manhole <e2>frames</e2> and utility covers, airport castings, drainage products, Trench Grates, hydrant and valve components, and industrial castings.\", 'labels': [], 'entities': []}\n",
      "114 {'text': 'The <e1>air</e1> was filled with the <e2>smell</e2> of burning plastic.', 'labels': [], 'entities': []}\n",
      "115 {'text': 'Lisa took great <e1>joy</e1> from <e2>laughing</e2>, volunteering at school, taking pictures, chatting, the Twins and Vikings, playing softball and volleyball, and time at Lake Vermilion.', 'labels': [], 'entities': [{'text': 'Lisa', 'start_pos': 0, 'end_pos': 4, 'labels': [PER (0.9911)]}, {'text': 'Twins', 'start_pos': 108, 'end_pos': 113, 'labels': [ORG (0.8865)]}, {'text': 'Vikings', 'start_pos': 118, 'end_pos': 125, 'labels': [ORG (0.6369)]}, {'text': 'Lake Vermilion', 'start_pos': 172, 'end_pos': 186, 'labels': [LOC (0.9915)]}]}\n",
      "116 {'text': 'Such <e1>lines</e1> from the pen of a young <e2>author</e2> widely read by the younger part of the population only confirm the profound change in the mood of the Freuch proletariat.', 'labels': [], 'entities': [{'text': 'Freuch', 'start_pos': 162, 'end_pos': 168, 'labels': [MISC (0.8708)]}]}\n",
      "117 {'text': 'The <e1>receiver</e1> was outputting the same <e2>tone</e2> to my Deva 5.', 'labels': [], 'entities': []}\n",
      "118 {'text': 'At least 12 people were killed yesterday when a <e1>squad</e1> of heavily armed <e2>militants</e2> stormed the police training school on the outskirts of Lahore, spraying it with gunfire and grenades.', 'labels': [], 'entities': [{'text': 'Lahore', 'start_pos': 154, 'end_pos': 160, 'labels': [LOC (0.9999)]}]}\n",
      "119 {'text': 'The <e1>telescope</e1> comprises <e2>lenses</e2> and tubes: both are extremely important to the performance of the telescope.', 'labels': [], 'entities': []}\n",
      "120 {'text': 'We poured the <e1>pulp</e1> into the <e2>tupperware tub</e2> filled with water.', 'labels': [], 'entities': []}\n",
      "121 {'text': '<e1>Carpenters</e1> build many things from <e2>wood</e2> and other materials, like buildings and boats.', 'labels': [], 'entities': []}\n",
      "122 {'text': 'Milk <e1>samples</e1> were obtained from one <e2>milking</e2> of each cow.', 'labels': [], 'entities': []}\n",
      "123 {'text': \"There's a comparison between the intimacy and accountability offered by a novel and that offered by a blog in which the <e1>blogger</e1> is participant in an on going <e2>conversation</e2>, in which the line between reader and original poster is blurred beyond recognition, in which collective comment replaces old-fashioned ivory tower editing with a kind of universal peer review.\", 'labels': [], 'entities': []}\n",
      "124 {'text': 'His <e1>speech</e1> criticised the <e2>idea</e2> of religious education as a journey around the various religions.', 'labels': [], 'entities': []}\n",
      "125 {'text': 'The bread prepared with <e1>rice</e1> <e2>flour</e2> was considered good by 25% of the assessors, regular by 33%, very bad by 17% and very good by only 8%.', 'labels': [], 'entities': []}\n",
      "126 {'text': 'The <e1>body</e1> unleashes its extraterrestrial <e2>passenger</e2>, which proceeds to infect the student population at a breakneck pace.', 'labels': [], 'entities': []}\n",
      "127 {'text': '<e1>Asteroid</e1> threatened Earth with <e2>disaster</e2>.', 'labels': [], 'entities': []}\n"
     ]
    }
   ],
   "source": [
    "for i,s in enumerate(sentences):\n",
    "    print(i,s.to_dict(tag_type='ner'))"
   ]
  },
  {
   "cell_type": "code",
   "execution_count": null,
   "id": "5d9e354e",
   "metadata": {},
   "outputs": [],
   "source": [
    "- Enter entity token around the sequence\n",
    "- Replace with equal length entity token E1, E1, \\E1\n",
    "- Replace with single entity token"
   ]
  },
  {
   "cell_type": "code",
   "execution_count": 8,
   "id": "f42f2603",
   "metadata": {},
   "outputs": [
    {
     "name": "stdout",
     "output_type": "stream",
     "text": [
      "{'tokens': ['Merpati', 'flight', '106', 'departed', 'Jakarta', '(', 'CGK', ')', 'on', 'a', 'domestic', 'flight', 'to', 'Tanjung', 'Pandan', '(', 'TJQ', ')', '.'], 'h': ['tjq', 'Q1331049', [[16]]], 't': ['tanjung pandan', 'Q3056359', [[13, 14]]]}\n"
     ]
    }
   ],
   "source": [
    "print(js_ls['P931'][0])"
   ]
  }
 ],
 "metadata": {
  "kernelspec": {
   "display_name": "Python 3",
   "language": "python",
   "name": "python3"
  },
  "language_info": {
   "codemirror_mode": {
    "name": "ipython",
    "version": 3
   },
   "file_extension": ".py",
   "mimetype": "text/x-python",
   "name": "python",
   "nbconvert_exporter": "python",
   "pygments_lexer": "ipython3",
   "version": "3.7.10"
  }
 },
 "nbformat": 4,
 "nbformat_minor": 5
}
