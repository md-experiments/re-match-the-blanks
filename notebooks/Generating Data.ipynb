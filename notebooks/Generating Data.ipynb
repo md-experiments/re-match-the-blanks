{
 "cells": [
  {
   "cell_type": "code",
   "execution_count": 1,
   "id": "9f39adf4",
   "metadata": {},
   "outputs": [],
   "source": [
    "import os\n",
    "os.chdir(os.path.abspath(os.curdir).replace('notebooks',''))"
   ]
  },
  {
   "cell_type": "code",
   "execution_count": 2,
   "id": "b6843774",
   "metadata": {},
   "outputs": [],
   "source": [
    "import json\n",
    "\n",
    "with open('./data/fewrel/train_wiki.json','r') as data:\n",
    "    js_ls = json.load(data)"
   ]
  },
  {
   "cell_type": "code",
   "execution_count": 10,
   "id": "7bea48b2",
   "metadata": {},
   "outputs": [],
   "source": [
    "from transformers import AutoTokenizer, AutoModelForMaskedLM, AutoModel\n",
    "  \n",
    "tokenizer = AutoTokenizer.from_pretrained(\"bert-base-uncased\")\n",
    "\n",
    "model = AutoModel.from_pretrained(\"bert-base-uncased\")"
   ]
  },
  {
   "cell_type": "code",
   "execution_count": 17,
   "id": "4589e4ea",
   "metadata": {
    "scrolled": true
   },
   "outputs": [
    {
     "data": {
      "text/plain": [
       "['[CLS]',\n",
       " 'mer',\n",
       " '##pati',\n",
       " 'flight',\n",
       " '106',\n",
       " 'departed',\n",
       " 'jakarta',\n",
       " '(',\n",
       " 'c',\n",
       " '##g',\n",
       " '##k',\n",
       " ')',\n",
       " 'on',\n",
       " 'a',\n",
       " 'domestic',\n",
       " 'flight',\n",
       " 'to',\n",
       " 'tan',\n",
       " '##jun',\n",
       " '##g',\n",
       " 'panda',\n",
       " '##n',\n",
       " '(',\n",
       " 't',\n",
       " '##j',\n",
       " '##q',\n",
       " ')',\n",
       " '.',\n",
       " '[SEP]']"
      ]
     },
     "execution_count": 17,
     "metadata": {},
     "output_type": "execute_result"
    }
   ],
   "source": [
    "txt = ' '.join(js_ls['P931'][0]['tokens'])\n",
    "\n",
    "tokenizer(txt).tokens()"
   ]
  },
  {
   "cell_type": "code",
   "execution_count": null,
   "id": "d90ecb8c",
   "metadata": {},
   "outputs": [],
   "source": [
    "from source"
   ]
  },
  {
   "cell_type": "code",
   "execution_count": 15,
   "id": "aedb86e3",
   "metadata": {},
   "outputs": [
    {
     "data": {
      "text/plain": [
       "'Merpati flight 106 departed Jakarta ( CGK ) on a domestic flight to Tanjung Pandan ( TJQ ) .'"
      ]
     },
     "execution_count": 15,
     "metadata": {},
     "output_type": "execute_result"
    }
   ],
   "source": [
    "txt"
   ]
  },
  {
   "cell_type": "code",
   "execution_count": 8,
   "id": "009a6bdb",
   "metadata": {},
   "outputs": [
    {
     "name": "stdout",
     "output_type": "stream",
     "text": [
      "{'tokens': ['Merpati', 'flight', '106', 'departed', 'Jakarta', '(', 'CGK', ')', 'on', 'a', 'domestic', 'flight', 'to', 'Tanjung', 'Pandan', '(', 'TJQ', ')', '.'], 'h': ['tjq', 'Q1331049', [[16]]], 't': ['tanjung pandan', 'Q3056359', [[13, 14]]]}\n"
     ]
    }
   ],
   "source": [
    "print(js_ls['P931'][0])"
   ]
  }
 ],
 "metadata": {
  "kernelspec": {
   "display_name": "Python 3",
   "language": "python",
   "name": "python3"
  },
  "language_info": {
   "codemirror_mode": {
    "name": "ipython",
    "version": 3
   },
   "file_extension": ".py",
   "mimetype": "text/x-python",
   "name": "python",
   "nbconvert_exporter": "python",
   "pygments_lexer": "ipython3",
   "version": "3.7.10"
  }
 },
 "nbformat": 4,
 "nbformat_minor": 5
}
