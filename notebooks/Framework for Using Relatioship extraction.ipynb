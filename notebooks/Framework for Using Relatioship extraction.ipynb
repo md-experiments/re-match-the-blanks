{
 "cells": [
  {
   "cell_type": "code",
   "execution_count": 1,
   "id": "d2019816",
   "metadata": {},
   "outputs": [],
   "source": [
    "import os\n",
    "os.chdir(os.path.abspath(os.curdir).replace('notebooks',''))\n"
   ]
  },
  {
   "cell_type": "code",
   "execution_count": 2,
   "id": "25003011",
   "metadata": {},
   "outputs": [],
   "source": [
    "from sentence_transformers import SentenceTransformer, models, InputExample, losses\n",
    "from torch import nn\n",
    "from torch.utils.data import DataLoader\n",
    "import pandas as pd"
   ]
  },
  {
   "cell_type": "code",
   "execution_count": 3,
   "id": "88f2030b",
   "metadata": {},
   "outputs": [],
   "source": [
    "%load_ext autoreload"
   ]
  },
  {
   "cell_type": "code",
   "execution_count": 15,
   "id": "a4c1e807",
   "metadata": {},
   "outputs": [],
   "source": [
    "%autoreload 2\n",
    "\n",
    "from create_train_data import read_sem_eval\n",
    "from source.ngram_utils import find_token_range"
   ]
  },
  {
   "cell_type": "markdown",
   "id": "565a02da",
   "metadata": {},
   "source": [
    "# High Level\n",
    "\n",
    "High level use cases here are:\n",
    "- Generate factually correct text from relationship / entity linkage detail\n",
    "- Be able to scan text by certain relationships of interest or combinations of entity - relationship: \"Owners of boats\", \"Causes of risk\"\n",
    "\n",
    "Issues with that are that there are two types of entities:\n",
    "- Named entities: John, Germany, Notre Dame\n",
    "- Concepts: democracy, operational risk, acquisitions\n",
    "Most entity models focus on the former and there is no clear framework to define the latter. Queries are likely to be via the latter as the user will not know the names in advance or may be searching for concepts to begin with\n",
    "\n",
    "## Tool flow\n",
    "- Specify concepts / entities / events and type of relationship\n",
    "- Scan text for entities. Annotate text to be ready for model to go through (add <e></e>). \n",
    "- Expand each sentence to have multiple vesions for each pair of entities\n",
    "- For the relationships needed, prepare a list of sample relationship sentences to run through the model\n",
    "- Embed both sets and look for sentences most similar to each relationship"
   ]
  },
  {
   "cell_type": "markdown",
   "id": "41e72137",
   "metadata": {},
   "source": [
    "# Expanding prototype samples"
   ]
  },
  {
   "cell_type": "code",
   "execution_count": 42,
   "id": "9411ceba",
   "metadata": {},
   "outputs": [],
   "source": [
    "rel_prototype_sents = {\n",
    "    'cause-effect':[\n",
    "        {'sent':'Drinking too much causes serious headache and possible brain damage',\n",
    "        'h': ['Drinking', '--'],\n",
    "         't': ['serious headache', '--']},\n",
    "        {'sent':'Drinking too much causes serious headache and possible brain damage',\n",
    "        'h': ['Drinking', '--'],\n",
    "         't': ['possible brain damage', '--']},\n",
    "    ]}"
   ]
  },
  {
   "cell_type": "code",
   "execution_count": 43,
   "id": "af5bc225",
   "metadata": {},
   "outputs": [],
   "source": [
    "# Expand prototype sentences with adding entities\n",
    "\n",
    "for rel in rel_prototype_sents:\n",
    "    sents = rel_prototype_sents[rel]\n",
    "    for i,sent in enumerate(sents):\n",
    "        sent_toks = sent['sent'].split()\n",
    "        rel_prototype_sents[rel][i]['tokens'] = sent_toks\n",
    "        head = rel_prototype_sents[rel][i]['h'][0]\n",
    "        rel_prototype_sents[rel][i]['h'] = update_loc(sent_toks, head, rel_prototype_sents[rel][i]['h'])       \n",
    "        tail = rel_prototype_sents[rel][i]['t'][0]\n",
    "        rel_prototype_sents[rel][i]['t'] = update_loc(sent_toks, tail, rel_prototype_sents[rel][i]['t'])"
   ]
  },
  {
   "cell_type": "code",
   "execution_count": 44,
   "id": "ea5fc7e1",
   "metadata": {},
   "outputs": [
    {
     "data": {
      "text/plain": [
       "{'cause-effect': [{'sent': 'Drinking too much causes serious headache and possible brain damage',\n",
       "   'h': ['Drinking', '--', [[0, 0]]],\n",
       "   't': ['serious headache', '--', [[4, 5]]],\n",
       "   'tokens': ['Drinking',\n",
       "    'too',\n",
       "    'much',\n",
       "    'causes',\n",
       "    'serious',\n",
       "    'headache',\n",
       "    'and',\n",
       "    'possible',\n",
       "    'brain',\n",
       "    'damage']},\n",
       "  {'sent': 'Drinking too much causes serious headache and possible brain damage',\n",
       "   'h': ['Drinking', '--', [[0, 0]]],\n",
       "   't': ['possible brain damage', '--', [[7, 8, 9]]],\n",
       "   'tokens': ['Drinking',\n",
       "    'too',\n",
       "    'much',\n",
       "    'causes',\n",
       "    'serious',\n",
       "    'headache',\n",
       "    'and',\n",
       "    'possible',\n",
       "    'brain',\n",
       "    'damage']}]}"
      ]
     },
     "execution_count": 44,
     "metadata": {},
     "output_type": "execute_result"
    }
   ],
   "source": [
    "rel_prototype_sents"
   ]
  },
  {
   "cell_type": "code",
   "execution_count": 38,
   "id": "9ba53517",
   "metadata": {},
   "outputs": [],
   "source": [
    "from source.data_prep import update_loc"
   ]
  },
  {
   "cell_type": "code",
   "execution_count": null,
   "id": "c019ee38",
   "metadata": {},
   "outputs": [],
   "source": [
    "entity_tokens = {\n",
    "    'h': ['<e1>','</e1>'],\n",
    "    't': ['<e2>','</e2>']\n",
    "}\n",
    "  "
   ]
  },
  {
   "cell_type": "code",
   "execution_count": 6,
   "id": "a7ecea14",
   "metadata": {},
   "outputs": [
    {
     "data": {
      "text/html": [
       "<div>\n",
       "<style scoped>\n",
       "    .dataframe tbody tr th:only-of-type {\n",
       "        vertical-align: middle;\n",
       "    }\n",
       "\n",
       "    .dataframe tbody tr th {\n",
       "        vertical-align: top;\n",
       "    }\n",
       "\n",
       "    .dataframe thead th {\n",
       "        text-align: right;\n",
       "    }\n",
       "</style>\n",
       "<table border=\"1\" class=\"dataframe\">\n",
       "  <thead>\n",
       "    <tr style=\"text-align: right;\">\n",
       "      <th></th>\n",
       "      <th>sentence</th>\n",
       "      <th>label</th>\n",
       "      <th>comment</th>\n",
       "    </tr>\n",
       "    <tr>\n",
       "      <th>i</th>\n",
       "      <th></th>\n",
       "      <th></th>\n",
       "      <th></th>\n",
       "    </tr>\n",
       "  </thead>\n",
       "  <tbody>\n",
       "    <tr>\n",
       "      <th>8001</th>\n",
       "      <td>The most common &lt;e1&gt;audits&lt;/e1&gt; were about &lt;e2...</td>\n",
       "      <td>Message-Topic(e1,e2)</td>\n",
       "      <td>Comment: Assuming an audit = an audit document.</td>\n",
       "    </tr>\n",
       "    <tr>\n",
       "      <th>8002</th>\n",
       "      <td>The &lt;e1&gt;company&lt;/e1&gt; fabricates plastic &lt;e2&gt;ch...</td>\n",
       "      <td>Product-Producer(e2,e1)</td>\n",
       "      <td>Comment: (a) is satisfied</td>\n",
       "    </tr>\n",
       "    <tr>\n",
       "      <th>8003</th>\n",
       "      <td>The school &lt;e1&gt;master&lt;/e1&gt; teaches the lesson ...</td>\n",
       "      <td>Instrument-Agency(e2,e1)</td>\n",
       "      <td>Comment:</td>\n",
       "    </tr>\n",
       "    <tr>\n",
       "      <th>8004</th>\n",
       "      <td>The suspect dumped the dead &lt;e1&gt;body&lt;/e1&gt; into...</td>\n",
       "      <td>Entity-Destination(e1,e2)</td>\n",
       "      <td>Comment:</td>\n",
       "    </tr>\n",
       "    <tr>\n",
       "      <th>8005</th>\n",
       "      <td>Avian &lt;e1&gt;influenza&lt;/e1&gt; is an infectious dise...</td>\n",
       "      <td>Cause-Effect(e2,e1)</td>\n",
       "      <td>Comment:</td>\n",
       "    </tr>\n",
       "  </tbody>\n",
       "</table>\n",
       "</div>"
      ],
      "text/plain": [
       "                                               sentence  \\\n",
       "i                                                         \n",
       "8001  The most common <e1>audits</e1> were about <e2...   \n",
       "8002  The <e1>company</e1> fabricates plastic <e2>ch...   \n",
       "8003  The school <e1>master</e1> teaches the lesson ...   \n",
       "8004  The suspect dumped the dead <e1>body</e1> into...   \n",
       "8005  Avian <e1>influenza</e1> is an infectious dise...   \n",
       "\n",
       "                          label  \\\n",
       "i                                 \n",
       "8001       Message-Topic(e1,e2)   \n",
       "8002    Product-Producer(e2,e1)   \n",
       "8003   Instrument-Agency(e2,e1)   \n",
       "8004  Entity-Destination(e1,e2)   \n",
       "8005        Cause-Effect(e2,e1)   \n",
       "\n",
       "                                              comment  \n",
       "i                                                      \n",
       "8001  Comment: Assuming an audit = an audit document.  \n",
       "8002                        Comment: (a) is satisfied  \n",
       "8003                                         Comment:  \n",
       "8004                                         Comment:  \n",
       "8005                                         Comment:  "
      ]
     },
     "execution_count": 6,
     "metadata": {},
     "output_type": "execute_result"
    }
   ],
   "source": [
    "df_tr = read_sem_eval('./data/SemEval2010_task8_all_data/SemEval2010_task8_testing_keys/TEST_FILE_FULL.TXT')\n",
    "df_tr.head()"
   ]
  },
  {
   "cell_type": "code",
   "execution_count": 55,
   "id": "8a93367a",
   "metadata": {},
   "outputs": [],
   "source": [
    "# Relationships model\n",
    "\n",
    "model_save_path = './trained_models/distilbert-base-uncased-mtb-rnd_sbert_bi_few_rel/'\n",
    "\n",
    "model = SentenceTransformer(model_save_path)"
   ]
  },
  {
   "cell_type": "markdown",
   "id": "ae423eee",
   "metadata": {},
   "source": [
    "Attempting to do something stupid here , namely remove all entnty tags and look for similarity. Results not convincing and sentences suddenly all show super high similarity. Possibly an indication that the model is very confused when there are no tags and considers everything to be the same in the absense of tags"
   ]
  },
  {
   "cell_type": "code",
   "execution_count": 52,
   "id": "23682646",
   "metadata": {},
   "outputs": [],
   "source": [
    "\n",
    "import re\n",
    "sample_cause_effects = list(df_tr[df_tr.label=='Cause-Effect(e2,e1)'].sample(10,random_state=1701).sentence.values)\n",
    "sample_cause_effects_clean = [re.sub('<[/]?e[1,2]>','',s) for s in sample_cause_effects]"
   ]
  },
  {
   "cell_type": "code",
   "execution_count": 77,
   "id": "b6d3b569",
   "metadata": {},
   "outputs": [],
   "source": [
    "emb_cause_effect = model.encode(sample_cause_effects)"
   ]
  },
  {
   "cell_type": "code",
   "execution_count": 53,
   "id": "642e0e79",
   "metadata": {},
   "outputs": [],
   "source": [
    "path_assets= '../endeavor/text_structure_extract/data/assets'\n",
    "art_name = 'risk__top_10_operational_risks_for_2020_conf_d8d7d7f94f01b730dc3876fc7387d82c_flat_sentence.csv'\n",
    "\n",
    "df_risk = pd.read_csv(f'{path_assets}/{art_name}', index_col = 0)"
   ]
  },
  {
   "cell_type": "code",
   "execution_count": 54,
   "id": "81ca3dd7",
   "metadata": {},
   "outputs": [],
   "source": [
    "list_risk = list(df_risk.sentence_0.values)"
   ]
  },
  {
   "cell_type": "code",
   "execution_count": 57,
   "id": "101f613b",
   "metadata": {},
   "outputs": [
    {
     "name": "stdout",
     "output_type": "stream",
     "text": [
      "158\n",
      "CPU times: user 6.35 s, sys: 370 ms, total: 6.72 s\n",
      "Wall time: 5.83 s\n"
     ]
    }
   ],
   "source": [
    "%%time \n",
    "\n",
    "print(len(list_risk))\n",
    "\n",
    "emb_list_risk = model.encode(list_risk)"
   ]
  },
  {
   "cell_type": "code",
   "execution_count": 59,
   "id": "ef1f6182",
   "metadata": {},
   "outputs": [],
   "source": [
    "from sklearn.metrics.pairwise import cosine_similarity"
   ]
  },
  {
   "cell_type": "code",
   "execution_count": 78,
   "id": "3fa0af93",
   "metadata": {},
   "outputs": [],
   "source": [
    "sim_score = cosine_similarity(emb_list_risk, emb_cause_effect).mean(axis=1)"
   ]
  },
  {
   "cell_type": "code",
   "execution_count": 79,
   "id": "1bb59a8c",
   "metadata": {},
   "outputs": [],
   "source": [
    "df_risk['cause'] = sim_score"
   ]
  },
  {
   "cell_type": "code",
   "execution_count": 80,
   "id": "94bed25e",
   "metadata": {},
   "outputs": [
    {
     "data": {
      "text/html": [
       "<div>\n",
       "<style scoped>\n",
       "    .dataframe tbody tr th:only-of-type {\n",
       "        vertical-align: middle;\n",
       "    }\n",
       "\n",
       "    .dataframe tbody tr th {\n",
       "        vertical-align: top;\n",
       "    }\n",
       "\n",
       "    .dataframe thead th {\n",
       "        text-align: right;\n",
       "    }\n",
       "</style>\n",
       "<table border=\"1\" class=\"dataframe\">\n",
       "  <thead>\n",
       "    <tr style=\"text-align: right;\">\n",
       "      <th></th>\n",
       "      <th>sentence_0</th>\n",
       "      <th>cause</th>\n",
       "    </tr>\n",
       "  </thead>\n",
       "  <tbody>\n",
       "    <tr>\n",
       "      <th>105</th>\n",
       "      <td>The category is an aggregation of two key subsets of the risk – mis-selling and unauthorised trading – which have appeared repeatedly in previous years.</td>\n",
       "      <td>0.873030</td>\n",
       "    </tr>\n",
       "    <tr>\n",
       "      <th>118</th>\n",
       "      <td>​Regulatory risk slips back a few places to rank at eighth in this year’s Top 10 – a function, perhaps, of a slowdown in the printing press of rulemakings that have reshaped the post-crisis financial landscape.</td>\n",
       "      <td>0.870863</td>\n",
       "    </tr>\n",
       "    <tr>\n",
       "      <th>54</th>\n",
       "      <td>While the march of progress may produce all sorts of convoluted, tech-centric crime, naturally theft and fraud can still take place in a more mundane fashion.</td>\n",
       "      <td>0.865506</td>\n",
       "    </tr>\n",
       "    <tr>\n",
       "      <th>37</th>\n",
       "      <td>In this year’s Top 10, data management, a discrete category in previous top 10 lists, has been folded into data compromise to form a single topic.</td>\n",
       "      <td>0.865048</td>\n",
       "    </tr>\n",
       "    <tr>\n",
       "      <th>145</th>\n",
       "      <td>Geopolitical risk continues to manifest itself in plenty of other ways, too, such as regulatory uncertainty.</td>\n",
       "      <td>0.857644</td>\n",
       "    </tr>\n",
       "    <tr>\n",
       "      <th>22</th>\n",
       "      <td>In this year’s survey, IT failure has been considered alongside IT disruption, where last year the categories were considered separately.</td>\n",
       "      <td>0.857326</td>\n",
       "    </tr>\n",
       "    <tr>\n",
       "      <th>120</th>\n",
       "      <td>Given the breadth and volume of new sets of rules, the potential for mis-steps and misinterpretation is manifest.</td>\n",
       "      <td>0.854154</td>\n",
       "    </tr>\n",
       "    <tr>\n",
       "      <th>107</th>\n",
       "      <td>“Conduct by its nature tends to take some time to be identified, and then often takes a long time to manifest itself in outflows from fines or restitution.</td>\n",
       "      <td>0.848606</td>\n",
       "    </tr>\n",
       "    <tr>\n",
       "      <th>93</th>\n",
       "      <td>Conversions of this sort, new projects and procedures – such as the long-overdue overhaul of domain models, for example – and the hatching of new enterprises often mean more work for employees who are already under pressure.</td>\n",
       "      <td>0.848598</td>\n",
       "    </tr>\n",
       "    <tr>\n",
       "      <th>23</th>\n",
       "      <td>Although the drivers and risk management of the issues are very different, the consequences – the loss of critical services leading to parts or all of an organisation being unable to function – end up looking much the same.</td>\n",
       "      <td>0.846775</td>\n",
       "    </tr>\n",
       "    <tr>\n",
       "      <th>64</th>\n",
       "      <td>On this year’s top 10 op risk list, third-party came in fourth place, moving up from sixth last year.</td>\n",
       "      <td>0.845764</td>\n",
       "    </tr>\n",
       "    <tr>\n",
       "      <th>119</th>\n",
       "      <td>The bedding down of reforms to derivatives markets, financial accounting practices, regulatory reporting and stress-testing requirements – the list goes on – doesn’t make compliance with them easy, however.</td>\n",
       "      <td>0.844838</td>\n",
       "    </tr>\n",
       "    <tr>\n",
       "      <th>98</th>\n",
       "      <td>Downsizings that put multitudes of people on the street can hollow out morale and ramp up the workloads of those still at their desks.</td>\n",
       "      <td>0.844725</td>\n",
       "    </tr>\n",
       "    <tr>\n",
       "      <th>130</th>\n",
       "      <td>As banks shed jobs, it forces them to think more about how they manage talent risk, says a global op risk head at a US bank.</td>\n",
       "      <td>0.843073</td>\n",
       "    </tr>\n",
       "    <tr>\n",
       "      <th>63</th>\n",
       "      <td>At that point, third-party risk splits into fourth-, fifth-, etc, -party risk – a radiating pond of ever less visible odds.</td>\n",
       "      <td>0.842762</td>\n",
       "    </tr>\n",
       "    <tr>\n",
       "      <th>46</th>\n",
       "      <td>That leads one respondent to dub this simply “insider risk”.</td>\n",
       "      <td>0.839001</td>\n",
       "    </tr>\n",
       "    <tr>\n",
       "      <th>87</th>\n",
       "      <td>One large European bank simply calls it “change risk”.</td>\n",
       "      <td>0.838762</td>\n",
       "    </tr>\n",
       "    <tr>\n",
       "      <th>2</th>\n",
       "      <td>The results are then weighted and aggregated, and are presented in brief below and analysed in depth in 10 accompanying articles.</td>\n",
       "      <td>0.838339</td>\n",
       "    </tr>\n",
       "    <tr>\n",
       "      <th>76</th>\n",
       "      <td>The growing complexity of banking and the interwoven nature of the financial system, both now rooted in technology, have combined to make resilience a subject of boardroom discussion.</td>\n",
       "      <td>0.837752</td>\n",
       "    </tr>\n",
       "    <tr>\n",
       "      <th>97</th>\n",
       "      <td>When a bank shrinks instead of expanding, that also requires attention.</td>\n",
       "      <td>0.837474</td>\n",
       "    </tr>\n",
       "  </tbody>\n",
       "</table>\n",
       "</div>"
      ],
      "text/plain": [
       "                                                                                                                                                                                                                           sentence_0  \\\n",
       "105                                                                          The category is an aggregation of two key subsets of the risk – mis-selling and unauthorised trading – which have appeared repeatedly in previous years.   \n",
       "118                ​Regulatory risk slips back a few places to rank at eighth in this year’s Top 10 – a function, perhaps, of a slowdown in the printing press of rulemakings that have reshaped the post-crisis financial landscape.   \n",
       "54                                                                     While the march of progress may produce all sorts of convoluted, tech-centric crime, naturally theft and fraud can still take place in a more mundane fashion.   \n",
       "37                                                                                 In this year’s Top 10, data management, a discrete category in previous top 10 lists, has been folded into data compromise to form a single topic.   \n",
       "145                                                                                                                      Geopolitical risk continues to manifest itself in plenty of other ways, too, such as regulatory uncertainty.   \n",
       "22                                                                                          In this year’s survey, IT failure has been considered alongside IT disruption, where last year the categories were considered separately.   \n",
       "120                                                                                                                 Given the breadth and volume of new sets of rules, the potential for mis-steps and misinterpretation is manifest.   \n",
       "107                                                                       “Conduct by its nature tends to take some time to be identified, and then often takes a long time to manifest itself in outflows from fines or restitution.   \n",
       "93   Conversions of this sort, new projects and procedures – such as the long-overdue overhaul of domain models, for example – and the hatching of new enterprises often mean more work for employees who are already under pressure.   \n",
       "23    Although the drivers and risk management of the issues are very different, the consequences – the loss of critical services leading to parts or all of an organisation being unable to function – end up looking much the same.   \n",
       "64                                                                                                                              On this year’s top 10 op risk list, third-party came in fourth place, moving up from sixth last year.   \n",
       "119                    The bedding down of reforms to derivatives markets, financial accounting practices, regulatory reporting and stress-testing requirements – the list goes on – doesn’t make compliance with them easy, however.   \n",
       "98                                                                                             Downsizings that put multitudes of people on the street can hollow out morale and ramp up the workloads of those still at their desks.   \n",
       "130                                                                                                      As banks shed jobs, it forces them to think more about how they manage talent risk, says a global op risk head at a US bank.   \n",
       "63                                                                                                        At that point, third-party risk splits into fourth-, fifth-, etc, -party risk – a radiating pond of ever less visible odds.   \n",
       "46                                                                                                                                                                       That leads one respondent to dub this simply “insider risk”.   \n",
       "87                                                                                                                                                                             One large European bank simply calls it “change risk”.   \n",
       "2                                                                                                   The results are then weighted and aggregated, and are presented in brief below and analysed in depth in 10 accompanying articles.   \n",
       "76                                            The growing complexity of banking and the interwoven nature of the financial system, both now rooted in technology, have combined to make resilience a subject of boardroom discussion.   \n",
       "97                                                                                                                                                            When a bank shrinks instead of expanding, that also requires attention.   \n",
       "\n",
       "        cause  \n",
       "105  0.873030  \n",
       "118  0.870863  \n",
       "54   0.865506  \n",
       "37   0.865048  \n",
       "145  0.857644  \n",
       "22   0.857326  \n",
       "120  0.854154  \n",
       "107  0.848606  \n",
       "93   0.848598  \n",
       "23   0.846775  \n",
       "64   0.845764  \n",
       "119  0.844838  \n",
       "98   0.844725  \n",
       "130  0.843073  \n",
       "63   0.842762  \n",
       "46   0.839001  \n",
       "87   0.838762  \n",
       "2    0.838339  \n",
       "76   0.837752  \n",
       "97   0.837474  "
      ]
     },
     "execution_count": 80,
     "metadata": {},
     "output_type": "execute_result"
    }
   ],
   "source": [
    "pd.set_option('display.max_colwidth', None)\n",
    "\n",
    "df_risk[['sentence_0','cause']].sort_values('cause',ascending = False).head(20)"
   ]
  },
  {
   "cell_type": "code",
   "execution_count": null,
   "id": "6f2ab305",
   "metadata": {},
   "outputs": [],
   "source": [
    "top_10_risks = ['IT disruption',\n",
    "'Data compromise',\n",
    "'Resilience risk',\n",
    "'Theft and fraud',\n",
    "'Third-party risk',\n",
    "'Conduct risk',\n",
    "'Regulatory risk',\n",
    "'Organisational change',\n",
    "'Geopolitical risk',\n",
    "'Employee wellbeing']"
   ]
  },
  {
   "cell_type": "code",
   "execution_count": 7,
   "id": "9824915f",
   "metadata": {},
   "outputs": [
    {
     "data": {
      "text/plain": [
       "array(['Message-Topic(e1,e2)', 'Product-Producer(e2,e1)',\n",
       "       'Instrument-Agency(e2,e1)', 'Entity-Destination(e1,e2)',\n",
       "       'Cause-Effect(e2,e1)', 'Component-Whole(e1,e2)',\n",
       "       'Product-Producer(e1,e2)', 'Member-Collection(e2,e1)', 'Other',\n",
       "       'Entity-Origin(e1,e2)', 'Content-Container(e1,e2)',\n",
       "       'Entity-Origin(e2,e1)', 'Cause-Effect(e1,e2)',\n",
       "       'Component-Whole(e2,e1)', 'Content-Container(e2,e1)',\n",
       "       'Instrument-Agency(e1,e2)', 'Message-Topic(e2,e1)',\n",
       "       'Member-Collection(e1,e2)', 'Entity-Destination(e2,e1)'],\n",
       "      dtype=object)"
      ]
     },
     "execution_count": 7,
     "metadata": {},
     "output_type": "execute_result"
    }
   ],
   "source": [
    "df_tr.label.unique()"
   ]
  }
 ],
 "metadata": {
  "kernelspec": {
   "display_name": "Python 3",
   "language": "python",
   "name": "python3"
  },
  "language_info": {
   "codemirror_mode": {
    "name": "ipython",
    "version": 3
   },
   "file_extension": ".py",
   "mimetype": "text/x-python",
   "name": "python",
   "nbconvert_exporter": "python",
   "pygments_lexer": "ipython3",
   "version": "3.7.10"
  }
 },
 "nbformat": 4,
 "nbformat_minor": 5
}
